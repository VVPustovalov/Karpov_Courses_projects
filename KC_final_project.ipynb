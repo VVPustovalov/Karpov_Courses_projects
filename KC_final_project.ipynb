{
 "cells": [
  {
   "cell_type": "code",
   "execution_count": 1,
   "metadata": {},
   "outputs": [],
   "source": [
    "# Импортируем необходимые библиотеки\n",
    "import pandas as pd\n",
    "pd.options.mode.chained_assignment = None\n",
    "\n",
    "import numpy as np\n",
    "from scipy.stats import chi2_contingency, ttest_ind\n",
    "\n",
    "import matplotlib.pyplot as plt\n",
    "from matplotlib import colors as mcolors\n",
    "import seaborn as sns\n",
    "sns.set(font_scale=1.3)\n",
    "\n",
    "import requests\n",
    "from urllib.parse import urlencode"
   ]
  },
  {
   "cell_type": "markdown",
   "metadata": {},
   "source": [
    "##  Задание 1\n",
    "    Retention – один из самых важных показателей в компании. Ваша задача – написать функцию, которая будет считать retention игроков (по дням от даты регистрации игрока)."
   ]
  },
  {
   "cell_type": "code",
   "execution_count": 2,
   "metadata": {},
   "outputs": [],
   "source": [
    "base_url = 'https://cloud-api.yandex.net/v1/disk/public/resources/download?'\n",
    "public_key = 'https://disk.yandex.ru/d/pKMhIfP2f9tRPw'\n",
    "\n",
    "# Получаем загрузочную ссылку\n",
    "final_url = base_url + urlencode(dict(public_key=public_key))\n",
    "response = requests.get(final_url)\n",
    "download_url = response.json()['href']"
   ]
  },
  {
   "cell_type": "code",
   "execution_count": 3,
   "metadata": {},
   "outputs": [
    {
     "data": {
      "text/html": [
       "<div>\n",
       "<style scoped>\n",
       "    .dataframe tbody tr th:only-of-type {\n",
       "        vertical-align: middle;\n",
       "    }\n",
       "\n",
       "    .dataframe tbody tr th {\n",
       "        vertical-align: top;\n",
       "    }\n",
       "\n",
       "    .dataframe thead th {\n",
       "        text-align: right;\n",
       "    }\n",
       "</style>\n",
       "<table border=\"1\" class=\"dataframe\">\n",
       "  <thead>\n",
       "    <tr style=\"text-align: right;\">\n",
       "      <th></th>\n",
       "      <th>reg_ts</th>\n",
       "      <th>uid</th>\n",
       "    </tr>\n",
       "  </thead>\n",
       "  <tbody>\n",
       "    <tr>\n",
       "      <th>0</th>\n",
       "      <td>911382223</td>\n",
       "      <td>1</td>\n",
       "    </tr>\n",
       "    <tr>\n",
       "      <th>1</th>\n",
       "      <td>932683089</td>\n",
       "      <td>2</td>\n",
       "    </tr>\n",
       "    <tr>\n",
       "      <th>2</th>\n",
       "      <td>947802447</td>\n",
       "      <td>3</td>\n",
       "    </tr>\n",
       "    <tr>\n",
       "      <th>3</th>\n",
       "      <td>959523541</td>\n",
       "      <td>4</td>\n",
       "    </tr>\n",
       "    <tr>\n",
       "      <th>4</th>\n",
       "      <td>969103313</td>\n",
       "      <td>5</td>\n",
       "    </tr>\n",
       "  </tbody>\n",
       "</table>\n",
       "</div>"
      ],
      "text/plain": [
       "      reg_ts  uid\n",
       "0  911382223    1\n",
       "1  932683089    2\n",
       "2  947802447    3\n",
       "3  959523541    4\n",
       "4  969103313    5"
      ]
     },
     "execution_count": 3,
     "metadata": {},
     "output_type": "execute_result"
    }
   ],
   "source": [
    "# Загружаем данные о дате регистрации пользователей\n",
    "\n",
    "base_url = 'https://cloud-api.yandex.net/v1/disk/public/resources/download?'\n",
    "public_key = 'https://disk.yandex.ru/d/pKMhIfP2f9tRPw'\n",
    "final_url = base_url + urlencode(dict(public_key=public_key))\n",
    "response = requests.get(final_url)\n",
    "download_url = response.json()['href']\n",
    "\n",
    "register_date = pd.read_csv(download_url, sep=';')\n",
    "register_date.head(5)"
   ]
  },
  {
   "cell_type": "code",
   "execution_count": 4,
   "metadata": {},
   "outputs": [
    {
     "data": {
      "text/html": [
       "<div>\n",
       "<style scoped>\n",
       "    .dataframe tbody tr th:only-of-type {\n",
       "        vertical-align: middle;\n",
       "    }\n",
       "\n",
       "    .dataframe tbody tr th {\n",
       "        vertical-align: top;\n",
       "    }\n",
       "\n",
       "    .dataframe thead th {\n",
       "        text-align: right;\n",
       "    }\n",
       "</style>\n",
       "<table border=\"1\" class=\"dataframe\">\n",
       "  <thead>\n",
       "    <tr style=\"text-align: right;\">\n",
       "      <th></th>\n",
       "      <th>auth_ts</th>\n",
       "      <th>uid</th>\n",
       "    </tr>\n",
       "  </thead>\n",
       "  <tbody>\n",
       "    <tr>\n",
       "      <th>0</th>\n",
       "      <td>911382223</td>\n",
       "      <td>1</td>\n",
       "    </tr>\n",
       "    <tr>\n",
       "      <th>1</th>\n",
       "      <td>932683089</td>\n",
       "      <td>2</td>\n",
       "    </tr>\n",
       "    <tr>\n",
       "      <th>2</th>\n",
       "      <td>932921206</td>\n",
       "      <td>2</td>\n",
       "    </tr>\n",
       "    <tr>\n",
       "      <th>3</th>\n",
       "      <td>933393015</td>\n",
       "      <td>2</td>\n",
       "    </tr>\n",
       "    <tr>\n",
       "      <th>4</th>\n",
       "      <td>933875379</td>\n",
       "      <td>2</td>\n",
       "    </tr>\n",
       "  </tbody>\n",
       "</table>\n",
       "</div>"
      ],
      "text/plain": [
       "     auth_ts  uid\n",
       "0  911382223    1\n",
       "1  932683089    2\n",
       "2  932921206    2\n",
       "3  933393015    2\n",
       "4  933875379    2"
      ]
     },
     "execution_count": 4,
     "metadata": {},
     "output_type": "execute_result"
    }
   ],
   "source": [
    "# Загружаем данные о датах авторизации игроков в игру\n",
    "\n",
    "base_url = 'https://cloud-api.yandex.net/v1/disk/public/resources/download?'\n",
    "public_key = 'https://disk.yandex.ru/d/-3OJerLrT5XXgQ'\n",
    "final_url = base_url + urlencode(dict(public_key=public_key))\n",
    "response = requests.get(final_url)\n",
    "download_url = response.json()['href']\n",
    "\n",
    "authentication_date = pd.read_csv(download_url, sep=';')\n",
    "authentication_date.head(5)"
   ]
  },
  {
   "cell_type": "code",
   "execution_count": 5,
   "metadata": {
    "scrolled": true
   },
   "outputs": [
    {
     "data": {
      "text/plain": [
       "auth_ts    0\n",
       "uid        0\n",
       "dtype: int64"
      ]
     },
     "execution_count": 5,
     "metadata": {},
     "output_type": "execute_result"
    }
   ],
   "source": [
    "# Проверяем данные на наличие дыр\n",
    "authentication_date.isna().sum()"
   ]
  },
  {
   "cell_type": "code",
   "execution_count": 6,
   "metadata": {},
   "outputs": [
    {
     "data": {
      "text/plain": [
       "reg_ts    0\n",
       "uid       0\n",
       "dtype: int64"
      ]
     },
     "execution_count": 6,
     "metadata": {},
     "output_type": "execute_result"
    }
   ],
   "source": [
    "register_date.isna().sum()"
   ]
  },
  {
   "cell_type": "code",
   "execution_count": 7,
   "metadata": {},
   "outputs": [
    {
     "data": {
      "text/plain": [
       "auth_ts    int64\n",
       "uid        int64\n",
       "dtype: object"
      ]
     },
     "execution_count": 7,
     "metadata": {},
     "output_type": "execute_result"
    }
   ],
   "source": [
    "# Смотрим тип данных в таблицах\n",
    "authentication_date.dtypes"
   ]
  },
  {
   "cell_type": "code",
   "execution_count": 8,
   "metadata": {},
   "outputs": [
    {
     "data": {
      "text/plain": [
       "reg_ts    int64\n",
       "uid       int64\n",
       "dtype: object"
      ]
     },
     "execution_count": 8,
     "metadata": {},
     "output_type": "execute_result"
    }
   ],
   "source": [
    "register_date.dtypes"
   ]
  },
  {
   "cell_type": "code",
   "execution_count": 9,
   "metadata": {},
   "outputs": [],
   "source": [
    "# Переводим UNIX время в дату\n",
    "register_date['reg_date']        = pd.to_datetime(register_date['reg_ts'], unit='s').dt.normalize()\n",
    "authentication_date['auth_date'] = pd.to_datetime(authentication_date['auth_ts'], unit='s').dt.normalize()"
   ]
  },
  {
   "cell_type": "code",
   "execution_count": 10,
   "metadata": {},
   "outputs": [
    {
     "data": {
      "text/plain": [
       "0"
      ]
     },
     "execution_count": 10,
     "metadata": {},
     "output_type": "execute_result"
    }
   ],
   "source": [
    "# Проверяем наличие задвоения в данных о регистрации\n",
    "register_date.uid.nunique() - register_date.shape[0]"
   ]
  },
  {
   "cell_type": "code",
   "execution_count": 11,
   "metadata": {},
   "outputs": [],
   "source": [
    "# Создаю функцию для расчета retention игроков по дням с момента регистрации по выборочному промежутку времени\n",
    "# Для ее использования нужно передать строковые значения первого и последнего дня необходимого промежутка дат\n",
    "def calculate_cohort(start_date, # Первый день\n",
    "                     end_date, # Последний день\n",
    "                     df_reg=register_date, # Данные о дате егистрации\n",
    "                     df_auth=authentication_date): # Данные о датах авторизации в игре\n",
    "               \n",
    "    df_reg  = df_reg.query(\"@start_date <= reg_date <= @end_date\")   # Отбираем данные по нужному промежутку времени\n",
    "    df_auth = df_auth.query(\"@start_date <= auth_date <= @end_date\")\n",
    "    \n",
    "    all_data = df_auth.merge(df_reg, on='uid')[['uid', 'reg_date', 'auth_date']]  # Соединяем данные о регистрации и авторзации\n",
    "    all_data['days'] = (all_data.auth_date - all_data.reg_date).dt.days           # Создаем колонку с регистрацией игрока\n",
    "    \n",
    "    pivot = all_data.pivot_table(index='reg_date',                 # Создаем пивот таблицу, где разбиваем игроков по когортам \n",
    "                                 columns='days',                   # и считаем количество вернувшихся в игру по дням\n",
    "                                 values='uid',\n",
    "                                 aggfunc='count')\n",
    "    \n",
    "    group_count =    df_reg \\\n",
    "                    .groupby('reg_date') \\\n",
    "                    .agg({'uid': 'count'}) \\\n",
    "                    .rename(columns={'uid': 'Размер когорты'})     # Создаем колонку с расчетом размера выборок в когортах\n",
    "    pivot = pivot.div(group_count['Размер когорты'], axis=0).round(3) # Расчитываем retention\n",
    "    pivot.insert(0, 'Размер когорты', group_count['Размер когорты'])  # Вставляем в таблицу размер группы\n",
    "    return  pivot                                                     # Возвращаем таблицу retention"
   ]
  },
  {
   "cell_type": "code",
   "execution_count": 12,
   "metadata": {},
   "outputs": [],
   "source": [
    "# Создаю дополнительную функцию, которая возвращает retention в виде тепловой карты\n",
    "# Для оптимального отображения графика рекомендуется её применять на отрезке вермени не более 25 дней\n",
    "# Для использования нужно передать строковые значения первого и последнего дня необходимого промежутка дат\n",
    "def calculate_cohort_heat(start_date,  # Первый день\n",
    "                          end_date,  # Последний день\n",
    "                          df_reg=register_date,  #Данные о дате егистрации\n",
    "                          df_auth=authentication_date):  # Данные о датах авторизации в игре\n",
    "    \n",
    "    df_reg  = df_reg.query(\"@start_date <= reg_date <= @end_date\")   # Отбираем данные по нужному промежутку времени\n",
    "    df_auth = df_auth.query(\"@start_date <= auth_date <= @end_date\")\n",
    "    \n",
    "    all_data = df_auth.merge(df_reg, on='uid')[['uid', 'reg_date', 'auth_date']]  # Соединяем данные о регистрации и авторзации\n",
    "    all_data['days'] = (all_data.auth_date - all_data.reg_date).dt.days           # Создаем колонку с датой регистрацией игрока\n",
    "    \n",
    "    pivot = all_data.pivot_table(index='reg_date',                 # Создаем пивот таблицу, где разбиваем игроков по когортам \n",
    "                                 columns='days',                   # и считаем количество вернувшихся в игру по дням\n",
    "                                 values='uid',\n",
    "                                 aggfunc='count')\n",
    "    \n",
    "    df_reg['reg_date'] = df_reg['reg_date'].dt.date                # Меняем тип даты для нормального отображения на графике\n",
    "    group_count =    df_reg \\\n",
    "                    .groupby('reg_date') \\\n",
    "                    .agg({'uid': 'count'}) \\\n",
    "                    .rename(columns={'uid': 'Размер когорты'})     # Создаем колонку с расчетом количества игроков в когортах\n",
    " \n",
    "    retention =  pivot.div(group_count['Размер когорты'], axis=0)  # Расчитываем retention\n",
    "\n",
    "    # Создаем 2 графика, где первый показывает когорту и количество респонеднтов в ней, второй отоброжает retention\n",
    "    with sns.axes_style(\"white\"):\n",
    "        fig, ax = plt.subplots(1, 2, figsize=(20, 12), sharey=True, gridspec_kw={'width_ratios': [1, 10]})\n",
    "\n",
    "        # Создаем тепловую карту retention\n",
    "        sns.heatmap(retention,\n",
    "                    vmax=0.1, # выставляем 10% retention как максимальное значение, для адекватного окрашивания наших данных\n",
    "                    annot=True, # Выводим полученные значения в яйчейках теплового графика\n",
    "                    fmt='.001%', # редактируем форматирование для отображения данных в виде процента\n",
    "                    cmap='RdYlGn', # ставим тепловую карту зеленый-желтый-красный\n",
    "                    ax=ax[1])\n",
    "        ax[1].set_title('Возвращение игроков в игру с момента регистрации', fontsize=24, pad=30)\n",
    "        ax[1].set_xlabel('День', fontsize=15, labelpad=15)\n",
    "        ax[1].set_ylabel(None)\n",
    "        ax[1].tick_params(axis=\"x\", labelsize=12) \n",
    "        \n",
    "        # График когорты и ее размер\n",
    "        white_cmap = mcolors.ListedColormap(['white']) #Раскрашиваем цвет яйчеек тепловой карты в белый\n",
    "        sns.heatmap(group_count, \n",
    "                    annot=True, \n",
    "                    cbar=False, \n",
    "                    fmt='g', \n",
    "                    cmap=white_cmap, \n",
    "                    ax=ax[0])\n",
    "        ax[0].tick_params(axis=\"x\", labelsize=12)\n",
    "        ax[0].set_ylabel('Дата регистрации', fontsize=15, labelpad=25)\n",
    "        ax[0].tick_params(axis=\"y\", labelsize=12, rotation = 0) \n",
    "        \n",
    "        plt.subplots_adjust(wspace=0, hspace=0) # Уменьшаем расстояние между графиками для их соединения\n"
   ]
  },
  {
   "cell_type": "code",
   "execution_count": 13,
   "metadata": {},
   "outputs": [
    {
     "data": {
      "text/html": [
       "<div>\n",
       "<style scoped>\n",
       "    .dataframe tbody tr th:only-of-type {\n",
       "        vertical-align: middle;\n",
       "    }\n",
       "\n",
       "    .dataframe tbody tr th {\n",
       "        vertical-align: top;\n",
       "    }\n",
       "\n",
       "    .dataframe thead th {\n",
       "        text-align: right;\n",
       "    }\n",
       "</style>\n",
       "<table border=\"1\" class=\"dataframe\">\n",
       "  <thead>\n",
       "    <tr style=\"text-align: right;\">\n",
       "      <th>days</th>\n",
       "      <th>Размер когорты</th>\n",
       "      <th>0</th>\n",
       "      <th>1</th>\n",
       "      <th>2</th>\n",
       "      <th>3</th>\n",
       "      <th>4</th>\n",
       "      <th>5</th>\n",
       "      <th>6</th>\n",
       "      <th>7</th>\n",
       "      <th>8</th>\n",
       "      <th>9</th>\n",
       "      <th>10</th>\n",
       "      <th>11</th>\n",
       "      <th>12</th>\n",
       "    </tr>\n",
       "    <tr>\n",
       "      <th>reg_date</th>\n",
       "      <th></th>\n",
       "      <th></th>\n",
       "      <th></th>\n",
       "      <th></th>\n",
       "      <th></th>\n",
       "      <th></th>\n",
       "      <th></th>\n",
       "      <th></th>\n",
       "      <th></th>\n",
       "      <th></th>\n",
       "      <th></th>\n",
       "      <th></th>\n",
       "      <th></th>\n",
       "      <th></th>\n",
       "    </tr>\n",
       "  </thead>\n",
       "  <tbody>\n",
       "    <tr>\n",
       "      <th>2019-01-01</th>\n",
       "      <td>583</td>\n",
       "      <td>1.0</td>\n",
       "      <td>0.021</td>\n",
       "      <td>0.038</td>\n",
       "      <td>0.050</td>\n",
       "      <td>0.045</td>\n",
       "      <td>0.063</td>\n",
       "      <td>0.082</td>\n",
       "      <td>0.058</td>\n",
       "      <td>0.055</td>\n",
       "      <td>0.060</td>\n",
       "      <td>0.060</td>\n",
       "      <td>0.046</td>\n",
       "      <td>0.057</td>\n",
       "    </tr>\n",
       "    <tr>\n",
       "      <th>2019-01-02</th>\n",
       "      <td>583</td>\n",
       "      <td>1.0</td>\n",
       "      <td>0.017</td>\n",
       "      <td>0.050</td>\n",
       "      <td>0.036</td>\n",
       "      <td>0.050</td>\n",
       "      <td>0.081</td>\n",
       "      <td>0.055</td>\n",
       "      <td>0.070</td>\n",
       "      <td>0.031</td>\n",
       "      <td>0.041</td>\n",
       "      <td>0.043</td>\n",
       "      <td>0.058</td>\n",
       "      <td>NaN</td>\n",
       "    </tr>\n",
       "    <tr>\n",
       "      <th>2019-01-03</th>\n",
       "      <td>585</td>\n",
       "      <td>1.0</td>\n",
       "      <td>0.017</td>\n",
       "      <td>0.031</td>\n",
       "      <td>0.044</td>\n",
       "      <td>0.060</td>\n",
       "      <td>0.063</td>\n",
       "      <td>0.065</td>\n",
       "      <td>0.058</td>\n",
       "      <td>0.022</td>\n",
       "      <td>0.050</td>\n",
       "      <td>0.048</td>\n",
       "      <td>NaN</td>\n",
       "      <td>NaN</td>\n",
       "    </tr>\n",
       "    <tr>\n",
       "      <th>2019-01-04</th>\n",
       "      <td>585</td>\n",
       "      <td>1.0</td>\n",
       "      <td>0.027</td>\n",
       "      <td>0.038</td>\n",
       "      <td>0.043</td>\n",
       "      <td>0.055</td>\n",
       "      <td>0.055</td>\n",
       "      <td>0.080</td>\n",
       "      <td>0.053</td>\n",
       "      <td>0.043</td>\n",
       "      <td>0.053</td>\n",
       "      <td>NaN</td>\n",
       "      <td>NaN</td>\n",
       "      <td>NaN</td>\n",
       "    </tr>\n",
       "    <tr>\n",
       "      <th>2019-01-05</th>\n",
       "      <td>586</td>\n",
       "      <td>1.0</td>\n",
       "      <td>0.019</td>\n",
       "      <td>0.041</td>\n",
       "      <td>0.046</td>\n",
       "      <td>0.049</td>\n",
       "      <td>0.082</td>\n",
       "      <td>0.072</td>\n",
       "      <td>0.070</td>\n",
       "      <td>0.060</td>\n",
       "      <td>NaN</td>\n",
       "      <td>NaN</td>\n",
       "      <td>NaN</td>\n",
       "      <td>NaN</td>\n",
       "    </tr>\n",
       "    <tr>\n",
       "      <th>2019-01-06</th>\n",
       "      <td>588</td>\n",
       "      <td>1.0</td>\n",
       "      <td>0.017</td>\n",
       "      <td>0.037</td>\n",
       "      <td>0.053</td>\n",
       "      <td>0.048</td>\n",
       "      <td>0.060</td>\n",
       "      <td>0.056</td>\n",
       "      <td>0.058</td>\n",
       "      <td>NaN</td>\n",
       "      <td>NaN</td>\n",
       "      <td>NaN</td>\n",
       "      <td>NaN</td>\n",
       "      <td>NaN</td>\n",
       "    </tr>\n",
       "    <tr>\n",
       "      <th>2019-01-07</th>\n",
       "      <td>588</td>\n",
       "      <td>1.0</td>\n",
       "      <td>0.017</td>\n",
       "      <td>0.043</td>\n",
       "      <td>0.041</td>\n",
       "      <td>0.054</td>\n",
       "      <td>0.073</td>\n",
       "      <td>0.073</td>\n",
       "      <td>NaN</td>\n",
       "      <td>NaN</td>\n",
       "      <td>NaN</td>\n",
       "      <td>NaN</td>\n",
       "      <td>NaN</td>\n",
       "      <td>NaN</td>\n",
       "    </tr>\n",
       "    <tr>\n",
       "      <th>2019-01-08</th>\n",
       "      <td>589</td>\n",
       "      <td>1.0</td>\n",
       "      <td>0.031</td>\n",
       "      <td>0.041</td>\n",
       "      <td>0.051</td>\n",
       "      <td>0.058</td>\n",
       "      <td>0.071</td>\n",
       "      <td>NaN</td>\n",
       "      <td>NaN</td>\n",
       "      <td>NaN</td>\n",
       "      <td>NaN</td>\n",
       "      <td>NaN</td>\n",
       "      <td>NaN</td>\n",
       "      <td>NaN</td>\n",
       "    </tr>\n",
       "    <tr>\n",
       "      <th>2019-01-09</th>\n",
       "      <td>590</td>\n",
       "      <td>1.0</td>\n",
       "      <td>0.010</td>\n",
       "      <td>0.027</td>\n",
       "      <td>0.042</td>\n",
       "      <td>0.053</td>\n",
       "      <td>NaN</td>\n",
       "      <td>NaN</td>\n",
       "      <td>NaN</td>\n",
       "      <td>NaN</td>\n",
       "      <td>NaN</td>\n",
       "      <td>NaN</td>\n",
       "      <td>NaN</td>\n",
       "      <td>NaN</td>\n",
       "    </tr>\n",
       "    <tr>\n",
       "      <th>2019-01-10</th>\n",
       "      <td>591</td>\n",
       "      <td>1.0</td>\n",
       "      <td>0.030</td>\n",
       "      <td>0.032</td>\n",
       "      <td>0.051</td>\n",
       "      <td>NaN</td>\n",
       "      <td>NaN</td>\n",
       "      <td>NaN</td>\n",
       "      <td>NaN</td>\n",
       "      <td>NaN</td>\n",
       "      <td>NaN</td>\n",
       "      <td>NaN</td>\n",
       "      <td>NaN</td>\n",
       "      <td>NaN</td>\n",
       "    </tr>\n",
       "    <tr>\n",
       "      <th>2019-01-11</th>\n",
       "      <td>593</td>\n",
       "      <td>1.0</td>\n",
       "      <td>0.022</td>\n",
       "      <td>0.042</td>\n",
       "      <td>NaN</td>\n",
       "      <td>NaN</td>\n",
       "      <td>NaN</td>\n",
       "      <td>NaN</td>\n",
       "      <td>NaN</td>\n",
       "      <td>NaN</td>\n",
       "      <td>NaN</td>\n",
       "      <td>NaN</td>\n",
       "      <td>NaN</td>\n",
       "      <td>NaN</td>\n",
       "    </tr>\n",
       "    <tr>\n",
       "      <th>2019-01-12</th>\n",
       "      <td>593</td>\n",
       "      <td>1.0</td>\n",
       "      <td>0.022</td>\n",
       "      <td>NaN</td>\n",
       "      <td>NaN</td>\n",
       "      <td>NaN</td>\n",
       "      <td>NaN</td>\n",
       "      <td>NaN</td>\n",
       "      <td>NaN</td>\n",
       "      <td>NaN</td>\n",
       "      <td>NaN</td>\n",
       "      <td>NaN</td>\n",
       "      <td>NaN</td>\n",
       "      <td>NaN</td>\n",
       "    </tr>\n",
       "    <tr>\n",
       "      <th>2019-01-13</th>\n",
       "      <td>594</td>\n",
       "      <td>1.0</td>\n",
       "      <td>NaN</td>\n",
       "      <td>NaN</td>\n",
       "      <td>NaN</td>\n",
       "      <td>NaN</td>\n",
       "      <td>NaN</td>\n",
       "      <td>NaN</td>\n",
       "      <td>NaN</td>\n",
       "      <td>NaN</td>\n",
       "      <td>NaN</td>\n",
       "      <td>NaN</td>\n",
       "      <td>NaN</td>\n",
       "      <td>NaN</td>\n",
       "    </tr>\n",
       "  </tbody>\n",
       "</table>\n",
       "</div>"
      ],
      "text/plain": [
       "days        Размер когорты    0      1      2      3      4      5      6  \\\n",
       "reg_date                                                                    \n",
       "2019-01-01             583  1.0  0.021  0.038  0.050  0.045  0.063  0.082   \n",
       "2019-01-02             583  1.0  0.017  0.050  0.036  0.050  0.081  0.055   \n",
       "2019-01-03             585  1.0  0.017  0.031  0.044  0.060  0.063  0.065   \n",
       "2019-01-04             585  1.0  0.027  0.038  0.043  0.055  0.055  0.080   \n",
       "2019-01-05             586  1.0  0.019  0.041  0.046  0.049  0.082  0.072   \n",
       "2019-01-06             588  1.0  0.017  0.037  0.053  0.048  0.060  0.056   \n",
       "2019-01-07             588  1.0  0.017  0.043  0.041  0.054  0.073  0.073   \n",
       "2019-01-08             589  1.0  0.031  0.041  0.051  0.058  0.071    NaN   \n",
       "2019-01-09             590  1.0  0.010  0.027  0.042  0.053    NaN    NaN   \n",
       "2019-01-10             591  1.0  0.030  0.032  0.051    NaN    NaN    NaN   \n",
       "2019-01-11             593  1.0  0.022  0.042    NaN    NaN    NaN    NaN   \n",
       "2019-01-12             593  1.0  0.022    NaN    NaN    NaN    NaN    NaN   \n",
       "2019-01-13             594  1.0    NaN    NaN    NaN    NaN    NaN    NaN   \n",
       "\n",
       "days            7      8      9     10     11     12  \n",
       "reg_date                                              \n",
       "2019-01-01  0.058  0.055  0.060  0.060  0.046  0.057  \n",
       "2019-01-02  0.070  0.031  0.041  0.043  0.058    NaN  \n",
       "2019-01-03  0.058  0.022  0.050  0.048    NaN    NaN  \n",
       "2019-01-04  0.053  0.043  0.053    NaN    NaN    NaN  \n",
       "2019-01-05  0.070  0.060    NaN    NaN    NaN    NaN  \n",
       "2019-01-06  0.058    NaN    NaN    NaN    NaN    NaN  \n",
       "2019-01-07    NaN    NaN    NaN    NaN    NaN    NaN  \n",
       "2019-01-08    NaN    NaN    NaN    NaN    NaN    NaN  \n",
       "2019-01-09    NaN    NaN    NaN    NaN    NaN    NaN  \n",
       "2019-01-10    NaN    NaN    NaN    NaN    NaN    NaN  \n",
       "2019-01-11    NaN    NaN    NaN    NaN    NaN    NaN  \n",
       "2019-01-12    NaN    NaN    NaN    NaN    NaN    NaN  \n",
       "2019-01-13    NaN    NaN    NaN    NaN    NaN    NaN  "
      ]
     },
     "execution_count": 13,
     "metadata": {},
     "output_type": "execute_result"
    }
   ],
   "source": [
    "#пример работы функции\n",
    "calculate_cohort(\"2019-01-01\", \"2019-01-13\")"
   ]
  },
  {
   "cell_type": "code",
   "execution_count": 14,
   "metadata": {},
   "outputs": [
    {
     "data": {
      "image/png": "[encoded data removed]",
      "text/plain": [
       "<Figure size 1440x864 with 3 Axes>"
      ]
     },
     "metadata": {},
     "output_type": "display_data"
    }
   ],
   "source": [
    "#пример работы функции графика\n",
    "calculate_cohort_heat(\"2019-01-01\", \"2019-01-13\")"
   ]
  },
  {
   "cell_type": "markdown",
   "metadata": {},
   "source": [
    "## Задание 2\n",
    "Имеются результаты A/B теста, в котором двум группам пользователей предлагались различные наборы акционных предложений. Известно, что ARPU в тестовой группе выше на 5%, чем в контрольной. При этом в контрольной группе 1928 игроков из 202103 оказались платящими, а в тестовой – 1805 из 202667.\n",
    "\n",
    "Какой набор предложений можно считать лучшим? Какие метрики стоит проанализировать для принятия правильного решения и как?"
   ]
  },
  {
   "cell_type": "markdown",
   "metadata": {},
   "source": [
    "-----------------"
   ]
  },
  {
   "cell_type": "markdown",
   "metadata": {},
   "source": [
    "По хорошему сравниваемые метирики подбираются до проведения A/B теста на этапе разработки дизайна исследования. Это зависит от поставленной гипотезы, какие ожидания были от изменения акционного набора. Подходящие статистические критерии также подбираются до проведения эксперимента во время A/A тестирования, у которых доверительный интверал отношения количества ошибок на общее количество А/А тестов включает в себя 0.05, что показывает адекватную вероятность совершить ошибку первого рода"
   ]
  },
  {
   "cell_type": "markdown",
   "metadata": {},
   "source": [
    "Но в данном случае мы обладаем только данными об уже проведеном эксперименте и будем подбирать необходимые метрики и критерии сравнения исходя от них. Для начала изучим полученную информацию о группах"
   ]
  },
  {
   "cell_type": "code",
   "execution_count": 15,
   "metadata": {},
   "outputs": [
    {
     "data": {
      "text/html": [
       "<div>\n",
       "<style scoped>\n",
       "    .dataframe tbody tr th:only-of-type {\n",
       "        vertical-align: middle;\n",
       "    }\n",
       "\n",
       "    .dataframe tbody tr th {\n",
       "        vertical-align: top;\n",
       "    }\n",
       "\n",
       "    .dataframe thead th {\n",
       "        text-align: right;\n",
       "    }\n",
       "</style>\n",
       "<table border=\"1\" class=\"dataframe\">\n",
       "  <thead>\n",
       "    <tr style=\"text-align: right;\">\n",
       "      <th></th>\n",
       "      <th>user_id</th>\n",
       "      <th>revenue</th>\n",
       "      <th>testgroup</th>\n",
       "    </tr>\n",
       "  </thead>\n",
       "  <tbody>\n",
       "    <tr>\n",
       "      <th>0</th>\n",
       "      <td>1</td>\n",
       "      <td>0</td>\n",
       "      <td>b</td>\n",
       "    </tr>\n",
       "    <tr>\n",
       "      <th>1</th>\n",
       "      <td>2</td>\n",
       "      <td>0</td>\n",
       "      <td>a</td>\n",
       "    </tr>\n",
       "    <tr>\n",
       "      <th>2</th>\n",
       "      <td>3</td>\n",
       "      <td>0</td>\n",
       "      <td>a</td>\n",
       "    </tr>\n",
       "    <tr>\n",
       "      <th>3</th>\n",
       "      <td>4</td>\n",
       "      <td>0</td>\n",
       "      <td>b</td>\n",
       "    </tr>\n",
       "    <tr>\n",
       "      <th>4</th>\n",
       "      <td>5</td>\n",
       "      <td>0</td>\n",
       "      <td>b</td>\n",
       "    </tr>\n",
       "  </tbody>\n",
       "</table>\n",
       "</div>"
      ],
      "text/plain": [
       "   user_id  revenue testgroup\n",
       "0        1        0         b\n",
       "1        2        0         a\n",
       "2        3        0         a\n",
       "3        4        0         b\n",
       "4        5        0         b"
      ]
     },
     "execution_count": 15,
     "metadata": {},
     "output_type": "execute_result"
    }
   ],
   "source": [
    "# Загружаем даннные проведенного теста\n",
    "\n",
    "base_url = 'https://cloud-api.yandex.net/v1/disk/public/resources/download?'\n",
    "public_key = 'https://disk.yandex.ru/d/tP36gFHxdN2JqQ'\n",
    "final_url = base_url + urlencode(dict(public_key=public_key))\n",
    "response = requests.get(final_url)\n",
    "download_url = response.json()['href']\n",
    "\n",
    "test_result = pd.read_csv(download_url, sep=';')\n",
    "test_result.head(5)"
   ]
  },
  {
   "cell_type": "code",
   "execution_count": 16,
   "metadata": {},
   "outputs": [
    {
     "data": {
      "text/plain": [
       "0"
      ]
     },
     "execution_count": 16,
     "metadata": {},
     "output_type": "execute_result"
    }
   ],
   "source": [
    "# Проверяем количетсво повторяющихся юзеров в данных\n",
    "test_result.user_id.nunique() - test_result.shape[0]"
   ]
  },
  {
   "cell_type": "markdown",
   "metadata": {},
   "source": [
    "У нас есть следующая информация: каждая строка это данные об отдельном юзере, где описывается общий доход от пользователя за время проведенного эксперимента и к какой группе акционных предложений он принадлежит "
   ]
  },
  {
   "cell_type": "code",
   "execution_count": 17,
   "metadata": {},
   "outputs": [],
   "source": [
    "#Подготвим датафреймы для дальнейших расчетов\n",
    "\n",
    "# Группы со всеми испытуемыми\n",
    "A_full = test_result.query(\"testgroup == 'a'\").revenue\n",
    "B_full = test_result.query(\"testgroup == 'b'\").revenue\n",
    "\n",
    "# Группы с платящими испытуемыми\n",
    "A_clients = test_result.query(\"testgroup == 'a' and revenue > 0\").revenue\n",
    "B_clients = test_result.query(\"testgroup == 'b' and revenue > 0\").revenue"
   ]
  },
  {
   "cell_type": "code",
   "execution_count": 18,
   "metadata": {
    "scrolled": true
   },
   "outputs": [
    {
     "data": {
      "text/html": [
       "<div>\n",
       "<style scoped>\n",
       "    .dataframe tbody tr th:only-of-type {\n",
       "        vertical-align: middle;\n",
       "    }\n",
       "\n",
       "    .dataframe tbody tr th {\n",
       "        vertical-align: top;\n",
       "    }\n",
       "\n",
       "    .dataframe thead th {\n",
       "        text-align: right;\n",
       "    }\n",
       "</style>\n",
       "<table border=\"1\" class=\"dataframe\">\n",
       "  <thead>\n",
       "    <tr style=\"text-align: right;\">\n",
       "      <th></th>\n",
       "      <th>control</th>\n",
       "      <th>test</th>\n",
       "      <th>relative_difference</th>\n",
       "    </tr>\n",
       "  </thead>\n",
       "  <tbody>\n",
       "    <tr>\n",
       "      <th>Испытуемые</th>\n",
       "      <td>202103.00</td>\n",
       "      <td>202667.00</td>\n",
       "      <td>0.28</td>\n",
       "    </tr>\n",
       "    <tr>\n",
       "      <th>Платящие</th>\n",
       "      <td>1928.00</td>\n",
       "      <td>1805.00</td>\n",
       "      <td>-6.38</td>\n",
       "    </tr>\n",
       "    <tr>\n",
       "      <th>Convertion_%</th>\n",
       "      <td>0.95</td>\n",
       "      <td>0.89</td>\n",
       "      <td>-6.32</td>\n",
       "    </tr>\n",
       "    <tr>\n",
       "      <th>ARPU</th>\n",
       "      <td>25.41</td>\n",
       "      <td>26.75</td>\n",
       "      <td>5.27</td>\n",
       "    </tr>\n",
       "    <tr>\n",
       "      <th>ARPPU</th>\n",
       "      <td>2664.00</td>\n",
       "      <td>3003.66</td>\n",
       "      <td>12.75</td>\n",
       "    </tr>\n",
       "    <tr>\n",
       "      <th>Revenue</th>\n",
       "      <td>5136189.00</td>\n",
       "      <td>5421603.00</td>\n",
       "      <td>5.56</td>\n",
       "    </tr>\n",
       "  </tbody>\n",
       "</table>\n",
       "</div>"
      ],
      "text/plain": [
       "                 control        test  relative_difference\n",
       "Испытуемые     202103.00   202667.00                 0.28\n",
       "Платящие         1928.00     1805.00                -6.38\n",
       "Convertion_%        0.95        0.89                -6.32\n",
       "ARPU               25.41       26.75                 5.27\n",
       "ARPPU            2664.00     3003.66                12.75\n",
       "Revenue       5136189.00  5421603.00                 5.56"
      ]
     },
     "execution_count": 18,
     "metadata": {},
     "output_type": "execute_result"
    }
   ],
   "source": [
    "# Расчитываем конверсию из не платящего в платящие\n",
    "con_a = round((A_clients.shape[0] / A_full.shape[0]) * 100, 2)\n",
    "con_b = round((B_clients.shape[0] / B_full.shape[0]) * 100, 2)\n",
    "\n",
    "# Расчитываем метрики каждой группы\n",
    "metrics = pd.DataFrame(dict({'Испытуемые': [A_full.shape[0], B_full.shape[0]],\n",
    "                             'Платящие': [A_clients.shape[0], B_clients.shape[0]],\n",
    "                             'Convertion_%': [con_a, con_b],\n",
    "                             'ARPU': [round(A_clients.sum() / A_full.shape[0], 2), round(B_clients.sum() / B_full.shape[0], 2)],\n",
    "                             'ARPPU': [round(A_clients.sum() / A_clients.shape[0], 2), round(B_clients.sum() / B_clients.shape[0], 2)],\n",
    "                             'Revenue': [A_clients.sum(), B_clients.sum()]}),\n",
    "                       index = ['control', 'test'])\n",
    "\n",
    "metrics = metrics.transpose()\n",
    "# Расчитываем относительную разницу между контрольной и тестовой группами\n",
    "metrics['relative_difference'] = round(metrics['test'] / metrics['control'] * 100 - 100, 2)\n",
    "metrics"
   ]
  },
  {
   "cell_type": "markdown",
   "metadata": {},
   "source": [
    "По относительной разницы групп мы получили следующие данные: \n",
    " - конверсия в покупку на 6.3% меньше у тестовой по сравнению с контрольной\n",
    " - средняя выручка за каждого пользователя/общий доход выросли на ~5%\n",
    " - средняя выручка за каждого платящего выросла на 12.75%\n",
    " \n",
    "С одной стороны с новым акционным набором уменьшилась конверсия в покупку, но при этом увеличилась выручка общая и за платящего пользователя. Для начала проверим есть ли статистически значимая разница в конверсиях, можем ли мы говорить о влиянии акционного набора на переход в покупку"
   ]
  },
  {
   "cell_type": "markdown",
   "metadata": {},
   "source": [
    "### Хи квадрат\n",
    "Нулевая гипотеза - нет статистически значимой взаимосвязи между переменными\n",
    "\n",
    "Альтернативная гипотеза - есть статистически значимая взаимосвязь между переменными"
   ]
  },
  {
   "cell_type": "code",
   "execution_count": 19,
   "metadata": {},
   "outputs": [
    {
     "data": {
      "text/html": [
       "<div>\n",
       "<style scoped>\n",
       "    .dataframe tbody tr th:only-of-type {\n",
       "        vertical-align: middle;\n",
       "    }\n",
       "\n",
       "    .dataframe tbody tr th {\n",
       "        vertical-align: top;\n",
       "    }\n",
       "\n",
       "    .dataframe thead th {\n",
       "        text-align: right;\n",
       "    }\n",
       "</style>\n",
       "<table border=\"1\" class=\"dataframe\">\n",
       "  <thead>\n",
       "    <tr style=\"text-align: right;\">\n",
       "      <th>segment</th>\n",
       "      <th>customer</th>\n",
       "      <th>user</th>\n",
       "    </tr>\n",
       "    <tr>\n",
       "      <th>testgroup</th>\n",
       "      <th></th>\n",
       "      <th></th>\n",
       "    </tr>\n",
       "  </thead>\n",
       "  <tbody>\n",
       "    <tr>\n",
       "      <th>a</th>\n",
       "      <td>1928</td>\n",
       "      <td>200175</td>\n",
       "    </tr>\n",
       "    <tr>\n",
       "      <th>b</th>\n",
       "      <td>1805</td>\n",
       "      <td>200862</td>\n",
       "    </tr>\n",
       "  </tbody>\n",
       "</table>\n",
       "</div>"
      ],
      "text/plain": [
       "segment    customer    user\n",
       "testgroup                  \n",
       "a              1928  200175\n",
       "b              1805  200862"
      ]
     },
     "execution_count": 19,
     "metadata": {},
     "output_type": "execute_result"
    }
   ],
   "source": [
    "# Создадим новую колонку где разделим игроков на платящих и не плятящих\n",
    "test_result['segment'] = test_result.revenue.apply(lambda x: 'customer' if x > 0 else 'user')\n",
    "\n",
    "# Получаем таблицу сопряженности платящих и не платащих пользователей тестовой и контрольной групп\n",
    "user_ct = pd.crosstab(test_result.testgroup, test_result.segment)\n",
    "user_ct"
   ]
  },
  {
   "cell_type": "code",
   "execution_count": 20,
   "metadata": {},
   "outputs": [
    {
     "name": "stdout",
     "output_type": "stream",
     "text": [
      "Полученное значение: 4.375\n",
      "p-value: 0.036\n",
      "Ожидаемые значения в контрольной группе:[  1864. 200239.]\n",
      "Ожидаемые значения в тестовой группе:[  1869. 200798.]\n"
     ]
    }
   ],
   "source": [
    "# Используем хи квадрат Пирсона\n",
    "stat, p, dof, expected = chi2_contingency(user_ct)\n",
    "expected = list(map(lambda x: np.round(x, 0), expected))\n",
    "\n",
    "print(f\"Полученное значение: {round(stat, 3)}\")\n",
    "print(f\"p-value: {round(p, 3)}\")\n",
    "print(f\"Ожидаемые значения в контрольной группе:{expected[0]}\")\n",
    "print(f\"Ожидаемые значения в тестовой группе:{expected[1]}\")"
   ]
  },
  {
   "cell_type": "code",
   "execution_count": 21,
   "metadata": {},
   "outputs": [
    {
     "data": {
      "text/html": [
       "<div>\n",
       "<style scoped>\n",
       "    .dataframe tbody tr th:only-of-type {\n",
       "        vertical-align: middle;\n",
       "    }\n",
       "\n",
       "    .dataframe tbody tr th {\n",
       "        vertical-align: top;\n",
       "    }\n",
       "\n",
       "    .dataframe thead th {\n",
       "        text-align: right;\n",
       "    }\n",
       "</style>\n",
       "<table border=\"1\" class=\"dataframe\">\n",
       "  <thead>\n",
       "    <tr style=\"text-align: right;\">\n",
       "      <th>segment</th>\n",
       "      <th>customer</th>\n",
       "      <th>user</th>\n",
       "    </tr>\n",
       "    <tr>\n",
       "      <th>testgroup</th>\n",
       "      <th></th>\n",
       "      <th></th>\n",
       "    </tr>\n",
       "  </thead>\n",
       "  <tbody>\n",
       "    <tr>\n",
       "      <th>a</th>\n",
       "      <td>64.0</td>\n",
       "      <td>-64.0</td>\n",
       "    </tr>\n",
       "    <tr>\n",
       "      <th>b</th>\n",
       "      <td>-64.0</td>\n",
       "      <td>64.0</td>\n",
       "    </tr>\n",
       "  </tbody>\n",
       "</table>\n",
       "</div>"
      ],
      "text/plain": [
       "segment    customer  user\n",
       "testgroup                \n",
       "a              64.0 -64.0\n",
       "b             -64.0  64.0"
      ]
     },
     "execution_count": 21,
     "metadata": {},
     "output_type": "execute_result"
    }
   ],
   "source": [
    "user_ct - pd.DataFrame(expected, columns=(['customer', 'user']), index=(['a', 'b']))"
   ]
  },
  {
   "cell_type": "markdown",
   "metadata": {},
   "source": [
    "С помощью полученных результатов мы можем отклонить нелевую гипотезу и принять альтернативную о наличии взаимосвязи между переменнными. Есть статистически значимое отличие между соотношением покупающих и не покупающих игроков в тестовой и контрольных группах. В тестовой группе меньше покупающих игроков, чем ожидаемое теоретическое значение, а в контрольной наоборот. Что может говорить о значимом отличии конверсии между контрольной и тестовой групп"
   ]
  },
  {
   "cell_type": "markdown",
   "metadata": {},
   "source": [
    "### Сравнение контрольной и  тестовой групп\n",
    "\n",
    "Для сравнения двух акционнных предложений оценим есть ли статистически значимая разница между их доходами. В данном случае для выбора более подходящего набора будет более целесообразно сравнить ARPU, так как есть значимое различие в конверсиях из не платящего в платящие и лучше оценить увеличилась ли выручка со всех пользователей с учетом уменьшения конверсии\n",
    "\n",
    "Для подбора более подходящего статистического критерия подробно рассмотрим распределение выборок в друх группах. В графики включим только распределение купивших игроков, так как огромное количество не покупавших пользователей не даст адекватно их отобразить"
   ]
  },
  {
   "cell_type": "code",
   "execution_count": 22,
   "metadata": {
    "scrolled": false
   },
   "outputs": [
    {
     "data": {
      "image/png": "[encoded data removed]",
      "text/plain": [
       "<Figure size 720x504 with 1 Axes>"
      ]
     },
     "metadata": {},
     "output_type": "display_data"
    }
   ],
   "source": [
    "clients = test_result.query(\"revenue > 0\")\n",
    "\n",
    "plt.figure(figsize=(10, 7))\n",
    "sns.boxplot(data=clients, x='testgroup', y='revenue', order=['a', 'b'], )\n",
    "plt.ylabel('Доход', labelpad=20)\n",
    "plt.show()"
   ]
  },
  {
   "cell_type": "markdown",
   "metadata": {},
   "source": [
    "На этом графике мы видим довольно большой выброс у контрольной группы, что сплющивает значение покупок других испытуемых. Более подробно рассмотрим распределение дохода пользователей в каждой группе без выбросов"
   ]
  },
  {
   "cell_type": "code",
   "execution_count": 23,
   "metadata": {},
   "outputs": [
    {
     "data": {
      "image/png": "[encoded data removed]",
      "text/plain": [
       "<Figure size 432x288 with 1 Axes>"
      ]
     },
     "metadata": {},
     "output_type": "display_data"
    }
   ],
   "source": [
    "# Распределение дохода от платящих пользователей контрольной группы\n",
    "plt.hist(clients.query(\"testgroup == 'a' and revenue < 10000\").revenue, bins=10)\n",
    "plt.ylabel('Количество', labelpad=10)\n",
    "plt.xlabel('Доход', labelpad=10)\n",
    "plt.title('Контрольня группа', pad=20)\n",
    "plt.show()"
   ]
  },
  {
   "cell_type": "code",
   "execution_count": 24,
   "metadata": {},
   "outputs": [
    {
     "data": {
      "image/png": "[encoded data removed]",
      "text/plain": [
       "<Figure size 432x288 with 1 Axes>"
      ]
     },
     "metadata": {},
     "output_type": "display_data"
    }
   ],
   "source": [
    "# Распределение дохода от платящих пользователей тестовой группы\n",
    "plt.hist(clients.query(\"testgroup == 'b'\").revenue)\n",
    "plt.ylabel('Количество', labelpad=10)\n",
    "plt.xlabel('Доход', labelpad=10)\n",
    "plt.title('Тестовая группа', pad=20)\n",
    "plt.show()"
   ]
  },
  {
   "cell_type": "code",
   "execution_count": 25,
   "metadata": {},
   "outputs": [
    {
     "data": {
      "text/plain": [
       "123"
      ]
     },
     "execution_count": 25,
     "metadata": {},
     "output_type": "execute_result"
    }
   ],
   "source": [
    "# Количество игроков в контрольной группе с покупками на сумму в районе 37 000\n",
    "clients.query(\"testgroup == 'a' and revenue > 10000\").shape[0]"
   ]
  },
  {
   "cell_type": "code",
   "execution_count": 26,
   "metadata": {},
   "outputs": [
    {
     "name": "stdout",
     "output_type": "stream",
     "text": [
      "6.81%\n"
     ]
    }
   ],
   "source": [
    "# Процент игроков с огромными покупками от покупающих игроков в контрольной группе\n",
    "print(str(round(clients.query(\"testgroup == 'a' and revenue > 10000\").shape[0] / B_clients.shape[0] * 100, 2)) + '%')"
   ]
  },
  {
   "cell_type": "markdown",
   "metadata": {},
   "source": [
    "Как видно по графикам, в контрольной группе равномерное распределение доходов от покупающих игроков с границей 200-400, но есть довольно сильный выброс в покупках, который составляет 6.81% от покупающих игроков в группе (123 испытуемых). В тестовой группе также равномерное распределение, границы revenue 2000-4000 и отстутвие выбросов"
   ]
  },
  {
   "cell_type": "markdown",
   "metadata": {},
   "source": [
    "------"
   ]
  },
  {
   "cell_type": "markdown",
   "metadata": {},
   "source": [
    "В данном случае будет не совсем валидно воспользоваться t-тестом Стьюдента из-за наличия большого выброса в контрольной группе, которые двольно сильно исказят среднее значение\n",
    "\n",
    "Также не совсем правильно будет применять критерий Манна-Уитни из-за огромного количества пересекающихся испытыуемых в значении 0. Можно использовать этот критерий при большом количестве нулей в выборках, но в нашем случае это больше 99% испытуемых, что значимо исказит наш p-value\n",
    "\n",
    "Мы можем прологорифмировать доход с каждого игрока, чтобы оштрафовать выбросы из контрольной группы и уменьшить их влияение на среднее значение дохода в группе. В этом случае мы сможем воспользоваться t-тестом Стьюдента"
   ]
  },
  {
   "cell_type": "markdown",
   "metadata": {},
   "source": [
    "---"
   ]
  },
  {
   "cell_type": "markdown",
   "metadata": {},
   "source": [
    "Н0 гипотеза - среднее значение дохода прологарифмированных выборок не имеют различий\n",
    "\n",
    "Н1 гипотеза - среднее значение дохода прологарифмированных выборок не равны"
   ]
  },
  {
   "cell_type": "code",
   "execution_count": 27,
   "metadata": {
    "scrolled": true
   },
   "outputs": [
    {
     "data": {
      "text/plain": [
       "Ttest_indResult(statistic=-6.5121724164204435, pvalue=7.415779073120386e-11)"
      ]
     },
     "execution_count": 27,
     "metadata": {},
     "output_type": "execute_result"
    }
   ],
   "source": [
    "ttest_ind(np.log(A_full + 1), np.log(B_full + 1)) # Добавляем ко всем значениям единицу, так как логарифм от 0 взять нельзя"
   ]
  },
  {
   "cell_type": "markdown",
   "metadata": {},
   "source": [
    "### Вывод\n",
    "Полученное значение p_value позволяет отклонить нулевую гипотезу и принять альтернативную. Среднее значение дохода логарифмированной тестовой выборки имеет статистичесски значимо больше среднего логарифмированной контрольной группы. С учетом штрафования больших значений в контрольной группе, новое акционное предложение повышает среднее значение выручки с каждого пользователя и лучше его ввести вместо старого, даже с учетом того, что конверсия в покупку у нового акционного набора будет меньше\n",
    "\n",
    "Но в то же время будет несправедливо закрыть глаза на тех пользователей, которые совершили крупные покупки в контрольной выборке. Хоть их средний доход значимо выбивается от других испытуемых, из-за чего мы их приписываем к выбросам, они составляют 6.81% от общей суммы покупающих игроков в контрольной группе. Что может быть совсем не случайностью и они являются другим сегметом игроков, которых привлекает старое акционное предложение, которое их побуждает тратить огромные суммы денег и приносит довольно высокий доход с одного пользователя. В таком случае этот же сегмент пользователей в тестовой группе вместо таких же покупок на большой чек, как в контрольной выборке, купил не больше среднего покупающего игрока или решил вовсе не тратить из-за отстутствия подходящего акционного набора \n",
    "\n",
    "Если в проведенном эксперименте нет ошибки системы сплитования и распределение испытуемых по выборкам произошло корректно, тогда нужно будет более детально изучить данную подгруппу пользователей, выделить их в отдельный сегмент и, если возможно, оставить акционное предложение им без изменений или более детально изучить их интересы и понять почему новый набор их не привлек"
   ]
  },
  {
   "cell_type": "markdown",
   "metadata": {},
   "source": [
    "## Задание 3\n",
    "В игре Plants & Gardens каждый месяц проводятся тематические события, ограниченные по времени. В них игроки могут получить уникальные предметы для сада и персонажей, дополнительные монеты или бонусы. Для получения награды требуется пройти ряд уровней за определенное время. С помощью каких метрик можно оценить результаты последнего прошедшего события?\n",
    "\n",
    "Предположим, в другом событии мы усложнили механику событий так, что при каждой неудачной попытке выполнения уровня игрок будет откатываться на несколько уровней назад. Изменится ли набор метрик оценки результата? Если да, то как?"
   ]
  },
  {
   "cell_type": "markdown",
   "metadata": {},
   "source": [
    "------------------------"
   ]
  },
  {
   "cell_type": "markdown",
   "metadata": {},
   "source": [
    "Тематические события в игре используются для дополнительного удержания игрока в игре. В ивентах нужно грамотно настроить сложность прохождения. Если он будет очень простым, то его быстро пройдут или он будет очень скучным и не принесет удовлетворения от прохождения. Если будет довольно сложным, то большая часть игроков может быстро забросить так и не пройдя его. Главное найти баланс, где участники получали удовольствие от достижения новых уровней и хотели все больше и больше проходить\n",
    "\n",
    "В обоих случаях я бы смотрел на несколько метрик: \n",
    "- конверсию игроков участовавших в ивенте/заходившие в игру во время ивента. Показывает на сколько мероприятие заиинтересовало игроков поучаствовать в нем, на сколько вовлекающим сделали ивент\n",
    "- Среднее количество пройденных уровней. Эта метрика индивидуальна для каждого мероприятия и должна соответствовать ожидаемому количеству пройденных уровней, на сколько задумывали сделать мероприятие сложным, на какой сегмент игроков был расчитан ивент.\n",
    "- Среднее время прохождения ивента. Метрика показывает на сколько смогли удержать игрока в игре, чем она выше, тем лучше ивент справился со своей задачей\n",
    "\n",
    "Дополнительно к новому событию я бы добавил сотношение количества продолжения участия в мероприятии на общее количество неудачных попыток. Этот показатель будет говорить о том на сколько игрок готов продолжать участвовать в ивенте после отката назад, не отбивает ли неудача желаение продолжить проходить уровни"
   ]
  },
  {
   "cell_type": "markdown",
   "metadata": {},
   "source": [
    "Главными показателями успешности проведенного мероприятия будет \"соотношение игроков участовавших в ивенте/заходившие в игру во время ивента\" и \"Среднее время прохождения ивента\". Эти метрики покажут на сколько много игроков событие смогло привлечь и на сколько долго удержать их в игре. Чем больше пользователь заходит в игру и проводит в ней время, тем более лояльным он становится к ней\n",
    "\n",
    "Если увеличение сложности приведет к благоприятным последтвиям, то игроки не должны испугаться нововведений и количество вовлеченных не должно уменьшиться. Также общее количество времени проведенного за игровым событием должно увеличиться, так как теперь придется тратить дополнительное время на прохождение уровней повторно при неудачной попытке выполнения"
   ]
  }
 ],
 "metadata": {
  "kernelspec": {
   "display_name": "Python 3 (ipykernel)",
   "language": "python",
   "name": "python3"
  },
  "language_info": {
   "codemirror_mode": {
    "name": "ipython",
    "version": 3
   },
   "file_extension": ".py",
   "mimetype": "text/x-python",
   "name": "python",
   "nbconvert_exporter": "python",
   "pygments_lexer": "ipython3",
   "version": "3.9.7"
  }
 },
 "nbformat": 4,
 "nbformat_minor": 4
}
