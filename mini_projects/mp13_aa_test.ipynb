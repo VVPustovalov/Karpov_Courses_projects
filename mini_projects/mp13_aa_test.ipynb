{
 "cells": [
  {
   "cell_type": "code",
   "execution_count": 1,
   "metadata": {},
   "outputs": [],
   "source": [
    "import numpy as np\n",
    "import pandas as pd\n",
    "from scipy import stats\n",
    "import matplotlib.pyplot as plt\n",
    "from statsmodels.stats.contingency_tables import StratifiedTable\n",
    "from scipy import stats\n",
    "from tqdm.auto import tqdm"
   ]
  },
  {
   "cell_type": "markdown",
   "metadata": {},
   "source": [
    "### Описание задания\n",
    "А/А-тестирование мобильного приложения. Необходимо посчитать результаты A/A-теста, проверяя метрику качества FPR (будем проверять на конверсии в покупку). Известно, что сплит-система сломана. Требуется проверить утверждение о поломке и найти ее причины, если сплит-система действительно сломана\n",
    "\n",
    "Описание колонок  \n",
    "experimentVariant – вариант эксперимента  \n",
    "version – версия приложения  \n",
    "purchase – факт покупки  \n",
    " \n",
    "Задача\n",
    "Запустите A/A-тест  \n",
    "Посчитайте FPR на уровне альфа = 0.05 (ставьте подвыборки без возвращения объемом 1000). Вы увидите, что FPR > альфа! Нам нужно наоборот – чтобы было меньше.  \n",
    "Найдите причины поломки сплит-системы, ориентируясь на результаты эксперимента (подсказка: найдите аномалию в версии приложения)  \n",
    "Напишите выводы, которые можно сделать на основе анализа результатов A/A-теста"
   ]
  },
  {
   "cell_type": "code",
   "execution_count": 2,
   "metadata": {},
   "outputs": [
    {
     "data": {
      "text/html": [
       "<div>\n",
       "<style scoped>\n",
       "    .dataframe tbody tr th:only-of-type {\n",
       "        vertical-align: middle;\n",
       "    }\n",
       "\n",
       "    .dataframe tbody tr th {\n",
       "        vertical-align: top;\n",
       "    }\n",
       "\n",
       "    .dataframe thead th {\n",
       "        text-align: right;\n",
       "    }\n",
       "</style>\n",
       "<table border=\"1\" class=\"dataframe\">\n",
       "  <thead>\n",
       "    <tr style=\"text-align: right;\">\n",
       "      <th></th>\n",
       "      <th>uid</th>\n",
       "      <th>experimentVariant</th>\n",
       "      <th>version</th>\n",
       "      <th>purchase</th>\n",
       "    </tr>\n",
       "  </thead>\n",
       "  <tbody>\n",
       "    <tr>\n",
       "      <th>1</th>\n",
       "      <td>c4ca4238a0b923820dcc509a6f75849b</td>\n",
       "      <td>1</td>\n",
       "      <td>v2.8.0</td>\n",
       "      <td>0</td>\n",
       "    </tr>\n",
       "    <tr>\n",
       "      <th>2</th>\n",
       "      <td>c81e728d9d4c2f636f067f89cc14862c</td>\n",
       "      <td>0</td>\n",
       "      <td>v2.9.0</td>\n",
       "      <td>0</td>\n",
       "    </tr>\n",
       "    <tr>\n",
       "      <th>3</th>\n",
       "      <td>eccbc87e4b5ce2fe28308fd9f2a7baf3</td>\n",
       "      <td>1</td>\n",
       "      <td>v2.9.0</td>\n",
       "      <td>0</td>\n",
       "    </tr>\n",
       "    <tr>\n",
       "      <th>4</th>\n",
       "      <td>a87ff679a2f3e71d9181a67b7542122c</td>\n",
       "      <td>1</td>\n",
       "      <td>v2.8.0</td>\n",
       "      <td>0</td>\n",
       "    </tr>\n",
       "    <tr>\n",
       "      <th>5</th>\n",
       "      <td>e4da3b7fbbce2345d7772b0674a318d5</td>\n",
       "      <td>1</td>\n",
       "      <td>v2.8.0</td>\n",
       "      <td>0</td>\n",
       "    </tr>\n",
       "    <tr>\n",
       "      <th>...</th>\n",
       "      <td>...</td>\n",
       "      <td>...</td>\n",
       "      <td>...</td>\n",
       "      <td>...</td>\n",
       "    </tr>\n",
       "    <tr>\n",
       "      <th>127014</th>\n",
       "      <td>d1f082ede77b17a99a9b0b240daf7bdf</td>\n",
       "      <td>0</td>\n",
       "      <td>v2.8.0</td>\n",
       "      <td>0</td>\n",
       "    </tr>\n",
       "    <tr>\n",
       "      <th>127015</th>\n",
       "      <td>94f0d540830ccdc6b29c1938eea445cc</td>\n",
       "      <td>0</td>\n",
       "      <td>v2.8.0</td>\n",
       "      <td>0</td>\n",
       "    </tr>\n",
       "    <tr>\n",
       "      <th>127016</th>\n",
       "      <td>709f74cf9721328e98be6f216e8a05a8</td>\n",
       "      <td>1</td>\n",
       "      <td>v2.9.0</td>\n",
       "      <td>0</td>\n",
       "    </tr>\n",
       "    <tr>\n",
       "      <th>127017</th>\n",
       "      <td>1767ae3f8ffec269d9ed0ac0ede68d90</td>\n",
       "      <td>1</td>\n",
       "      <td>v2.8.0</td>\n",
       "      <td>0</td>\n",
       "    </tr>\n",
       "    <tr>\n",
       "      <th>127018</th>\n",
       "      <td>8dd8503c49b5e8c6aaea1ed7f0c49765</td>\n",
       "      <td>1</td>\n",
       "      <td>v2.8.0</td>\n",
       "      <td>0</td>\n",
       "    </tr>\n",
       "  </tbody>\n",
       "</table>\n",
       "<p>127018 rows × 4 columns</p>\n",
       "</div>"
      ],
      "text/plain": [
       "                                     uid  experimentVariant version  purchase\n",
       "1       c4ca4238a0b923820dcc509a6f75849b                  1  v2.8.0         0\n",
       "2       c81e728d9d4c2f636f067f89cc14862c                  0  v2.9.0         0\n",
       "3       eccbc87e4b5ce2fe28308fd9f2a7baf3                  1  v2.9.0         0\n",
       "4       a87ff679a2f3e71d9181a67b7542122c                  1  v2.8.0         0\n",
       "5       e4da3b7fbbce2345d7772b0674a318d5                  1  v2.8.0         0\n",
       "...                                  ...                ...     ...       ...\n",
       "127014  d1f082ede77b17a99a9b0b240daf7bdf                  0  v2.8.0         0\n",
       "127015  94f0d540830ccdc6b29c1938eea445cc                  0  v2.8.0         0\n",
       "127016  709f74cf9721328e98be6f216e8a05a8                  1  v2.9.0         0\n",
       "127017  1767ae3f8ffec269d9ed0ac0ede68d90                  1  v2.8.0         0\n",
       "127018  8dd8503c49b5e8c6aaea1ed7f0c49765                  1  v2.8.0         0\n",
       "\n",
       "[127018 rows x 4 columns]"
      ]
     },
     "execution_count": 2,
     "metadata": {},
     "output_type": "execute_result"
    }
   ],
   "source": [
    "# Загружаю данные эксперимента в ноутбук\n",
    "sample = pd.read_csv('https://stepik.org/media/attachments/lesson/396012/hw_aa.csv', sep=';',index_col= 'Unnamed: 0')\n",
    "sample"
   ]
  },
  {
   "cell_type": "code",
   "execution_count": 3,
   "metadata": {},
   "outputs": [
    {
     "data": {
      "text/plain": [
       "uid                  object\n",
       "experimentVariant     int64\n",
       "version              object\n",
       "purchase              int64\n",
       "dtype: object"
      ]
     },
     "execution_count": 3,
     "metadata": {},
     "output_type": "execute_result"
    }
   ],
   "source": [
    "# Проверяю тип данных столбцов\n",
    "sample.dtypes"
   ]
  },
  {
   "cell_type": "code",
   "execution_count": 4,
   "metadata": {},
   "outputs": [
    {
     "data": {
      "text/plain": [
       "uid                  0\n",
       "experimentVariant    0\n",
       "version              0\n",
       "purchase             0\n",
       "dtype: int64"
      ]
     },
     "execution_count": 4,
     "metadata": {},
     "output_type": "execute_result"
    }
   ],
   "source": [
    "# Проверяю наличие дыр в данных\n",
    "sample.isna().sum()"
   ]
  },
  {
   "cell_type": "code",
   "execution_count": 5,
   "metadata": {},
   "outputs": [
    {
     "data": {
      "text/plain": [
       "0"
      ]
     },
     "execution_count": 5,
     "metadata": {},
     "output_type": "execute_result"
    }
   ],
   "source": [
    "# Проверяю наличие дубликатов в данных\n",
    "sample.drop_duplicates().shape[0] - sample.shape[0]"
   ]
  },
  {
   "cell_type": "code",
   "execution_count": 6,
   "metadata": {},
   "outputs": [],
   "source": [
    "#Выделяю датафреймы двух групп\n",
    "exp  = sample.query('experimentVariant == 1')[['purchase', 'version']]\n",
    "test = sample.query('experimentVariant == 0')[['purchase', 'version']]"
   ]
  },
  {
   "cell_type": "code",
   "execution_count": 7,
   "metadata": {},
   "outputs": [
    {
     "data": {
      "text/html": [
       "<div>\n",
       "<style scoped>\n",
       "    .dataframe tbody tr th:only-of-type {\n",
       "        vertical-align: middle;\n",
       "    }\n",
       "\n",
       "    .dataframe tbody tr th {\n",
       "        vertical-align: top;\n",
       "    }\n",
       "\n",
       "    .dataframe thead th {\n",
       "        text-align: right;\n",
       "    }\n",
       "</style>\n",
       "<table border=\"1\" class=\"dataframe\">\n",
       "  <thead>\n",
       "    <tr style=\"text-align: right;\">\n",
       "      <th></th>\n",
       "      <th>purchase</th>\n",
       "      <th>version</th>\n",
       "    </tr>\n",
       "  </thead>\n",
       "  <tbody>\n",
       "    <tr>\n",
       "      <th>1</th>\n",
       "      <td>0</td>\n",
       "      <td>v2.8.0</td>\n",
       "    </tr>\n",
       "    <tr>\n",
       "      <th>3</th>\n",
       "      <td>0</td>\n",
       "      <td>v2.9.0</td>\n",
       "    </tr>\n",
       "    <tr>\n",
       "      <th>4</th>\n",
       "      <td>0</td>\n",
       "      <td>v2.8.0</td>\n",
       "    </tr>\n",
       "    <tr>\n",
       "      <th>5</th>\n",
       "      <td>0</td>\n",
       "      <td>v2.8.0</td>\n",
       "    </tr>\n",
       "    <tr>\n",
       "      <th>6</th>\n",
       "      <td>0</td>\n",
       "      <td>v2.8.0</td>\n",
       "    </tr>\n",
       "    <tr>\n",
       "      <th>...</th>\n",
       "      <td>...</td>\n",
       "      <td>...</td>\n",
       "    </tr>\n",
       "    <tr>\n",
       "      <th>127010</th>\n",
       "      <td>0</td>\n",
       "      <td>v2.8.0</td>\n",
       "    </tr>\n",
       "    <tr>\n",
       "      <th>127011</th>\n",
       "      <td>0</td>\n",
       "      <td>v2.8.0</td>\n",
       "    </tr>\n",
       "    <tr>\n",
       "      <th>127016</th>\n",
       "      <td>0</td>\n",
       "      <td>v2.9.0</td>\n",
       "    </tr>\n",
       "    <tr>\n",
       "      <th>127017</th>\n",
       "      <td>0</td>\n",
       "      <td>v2.8.0</td>\n",
       "    </tr>\n",
       "    <tr>\n",
       "      <th>127018</th>\n",
       "      <td>0</td>\n",
       "      <td>v2.8.0</td>\n",
       "    </tr>\n",
       "  </tbody>\n",
       "</table>\n",
       "<p>63916 rows × 2 columns</p>\n",
       "</div>"
      ],
      "text/plain": [
       "        purchase version\n",
       "1              0  v2.8.0\n",
       "3              0  v2.9.0\n",
       "4              0  v2.8.0\n",
       "5              0  v2.8.0\n",
       "6              0  v2.8.0\n",
       "...          ...     ...\n",
       "127010         0  v2.8.0\n",
       "127011         0  v2.8.0\n",
       "127016         0  v2.9.0\n",
       "127017         0  v2.8.0\n",
       "127018         0  v2.8.0\n",
       "\n",
       "[63916 rows x 2 columns]"
      ]
     },
     "execution_count": 7,
     "metadata": {},
     "output_type": "execute_result"
    }
   ],
   "source": [
    "exp"
   ]
  },
  {
   "cell_type": "code",
   "execution_count": 8,
   "metadata": {},
   "outputs": [
    {
     "data": {
      "application/vnd.jupyter.widget-view+json": {
       "model_id": "962d4450b39c4ddabcceac864c0ccce2",
       "version_major": 2,
       "version_minor": 0
      },
      "text/plain": [
       "HBox(children=(FloatProgress(value=0.0, max=1000.0), HTML(value='')))"
      ]
     },
     "metadata": {},
     "output_type": "display_data"
    },
    {
     "name": "stdout",
     "output_type": "stream",
     "text": [
      "\n"
     ]
    },
    {
     "data": {
      "image/png": "[encoded data removed]",
      "text/plain": [
       "<Figure size 432x288 with 1 Axes>"
      ]
     },
     "metadata": {
      "needs_background": "light"
     },
     "output_type": "display_data"
    },
    {
     "data": {
      "text/plain": [
       "0.939"
      ]
     },
     "execution_count": 8,
     "metadata": {},
     "output_type": "execute_result"
    }
   ],
   "source": [
    "# Провожу А/А тест\n",
    "\n",
    "simulations = 1000\n",
    "n_s = 1000\n",
    "res = []\n",
    "\n",
    "# Запуск симуляций A/A теста\n",
    "for i in tqdm(range(simulations)):\n",
    "    s1 = exp['purchase'].sample(n_s, replace = False).values\n",
    "    s2 = test['purchase'].sample(n_s, replace = False).values\n",
    "    res.append(stats.ttest_ind(s1, s2, equal_var = False)[1]) # сохраняем pvalue\n",
    "\n",
    "plt.hist(res, bins = 50)\n",
    "plt.style.use('ggplot')\n",
    "plt.xlabel('pvalues')\n",
    "plt.ylabel('frequency')\n",
    "plt.title(\"Histogram of ttest A/A simulations \")\n",
    "plt.show()\n",
    "\n",
    "# Проверяем, что количество ложноположительных случаев не превышает альфа\n",
    "sum(np.array(res) <0.05) / simulations"
   ]
  },
  {
   "cell_type": "markdown",
   "metadata": {},
   "source": [
    "Как мы видим по графику и FPR (~0.94 > 0.05) у нас сломанная сплит-система и мы не готовы к проведению A/B тестирования сейчас  \n",
    "Задача на текущий момент: найти причину поломки"
   ]
  },
  {
   "cell_type": "code",
   "execution_count": 9,
   "metadata": {
    "scrolled": true
   },
   "outputs": [
    {
     "data": {
      "text/html": [
       "<table class=\"simpletable\">\n",
       "<tr>\n",
       "          <td></td>          <th>Estimate</th>    <th>LCB</th>    <th>UCB</th> \n",
       "</tr>\n",
       "<tr>\n",
       "  <th>Pooled odds</th>           <td>2.300</td>   <td>2.161</td> <td>2.447</td>\n",
       "</tr>\n",
       "<tr>\n",
       "  <th>Pooled log odds</th>       <td>0.833</td>   <td>0.771</td> <td>0.895</td>\n",
       "</tr>\n",
       "<tr>\n",
       "  <th>Pooled risk ratio</th>     <td>1.031</td>        <td></td>      <td></td>\n",
       "</tr>\n",
       "<tr>\n",
       "  <th></th>                           <td></td>        <td></td>      <td></td>\n",
       "</tr>\n",
       "<tr>\n",
       "          <td></td>         <th>Statistic</th> <th>P-value</th> <th></th>\n",
       "</tr>\n",
       "<tr>\n",
       "  <th>Test of OR=1</th>       <td>734.655</td>   <td>0.000</td> <td></td>\n",
       "</tr>\n",
       "<tr>\n",
       "  <th>Test constant OR</th>  <td>1256.880</td>   <td>0.000</td> <td></td>\n",
       "</tr>\n",
       "<tr>\n",
       "          <td></td>            <th></th>    <th></th> <th></th>\n",
       "</tr>\n",
       "<tr>\n",
       "  <th>Number of tables</th>      <td>4</td> <td></td> <td></td>\n",
       "</tr>\n",
       "<tr>\n",
       "  <th>Min n</th>              <td>8425</td> <td></td> <td></td>\n",
       "</tr>\n",
       "<tr>\n",
       "  <th>Max n</th>             <td>82835</td> <td></td> <td></td>\n",
       "</tr>\n",
       "<tr>\n",
       "  <th>Avg n</th>             <td>31754</td> <td></td> <td></td>\n",
       "</tr>\n",
       "<tr>\n",
       "  <th>Total n</th>          <td>127018</td> <td></td> <td></td>\n",
       "</tr>\n",
       "</table>"
      ],
      "text/plain": [
       "<class 'statsmodels.iolib.table.SimpleTable'>"
      ]
     },
     "execution_count": 9,
     "metadata": {},
     "output_type": "execute_result"
    }
   ],
   "source": [
    "# Воспользуемся критерием Кохрана-Мантеля-Ханзеля для проверки дисбаланса\n",
    "StratifiedTable.from_data('experimentVariant', 'purchase', 'version', sample).summary()"
   ]
  },
  {
   "cell_type": "markdown",
   "metadata": {},
   "source": [
    "Полученный результат позволяет нам отклонить нулевую гипотезу о независимости двух сравниваемых групп A/A тестирования (p-valueTest of OR=1 < 0.05)  \n",
    " Также отклоняем нулевую гипотезу об одинаковости взаимосвязи покупок двух групп по всем версиям приложений (p-value Test constant OR < 0.05)  \n",
    " Нужно поискать аномалии связанные с версией приложения, так как в одной или более версий наших групп имеются статистически значимые различия  "
   ]
  },
  {
   "cell_type": "code",
   "execution_count": 10,
   "metadata": {},
   "outputs": [
    {
     "data": {
      "text/html": [
       "<div>\n",
       "<style scoped>\n",
       "    .dataframe tbody tr th:only-of-type {\n",
       "        vertical-align: middle;\n",
       "    }\n",
       "\n",
       "    .dataframe tbody tr th {\n",
       "        vertical-align: top;\n",
       "    }\n",
       "\n",
       "    .dataframe thead tr th {\n",
       "        text-align: left;\n",
       "    }\n",
       "\n",
       "    .dataframe thead tr:last-of-type th {\n",
       "        text-align: right;\n",
       "    }\n",
       "</style>\n",
       "<table border=\"1\" class=\"dataframe\">\n",
       "  <thead>\n",
       "    <tr>\n",
       "      <th></th>\n",
       "      <th colspan=\"2\" halign=\"left\">number</th>\n",
       "      <th colspan=\"2\" halign=\"left\">purchase</th>\n",
       "    </tr>\n",
       "    <tr>\n",
       "      <th>experimentVariant</th>\n",
       "      <th>0</th>\n",
       "      <th>1</th>\n",
       "      <th>0</th>\n",
       "      <th>1</th>\n",
       "    </tr>\n",
       "    <tr>\n",
       "      <th>version</th>\n",
       "      <th></th>\n",
       "      <th></th>\n",
       "      <th></th>\n",
       "      <th></th>\n",
       "    </tr>\n",
       "  </thead>\n",
       "  <tbody>\n",
       "    <tr>\n",
       "      <th>v2.8.0</th>\n",
       "      <td>41283.0</td>\n",
       "      <td>41552.0</td>\n",
       "      <td>0.000993</td>\n",
       "      <td>0.045606</td>\n",
       "    </tr>\n",
       "    <tr>\n",
       "      <th>v2.9.0</th>\n",
       "      <td>11921.0</td>\n",
       "      <td>12033.0</td>\n",
       "      <td>0.074658</td>\n",
       "      <td>0.071304</td>\n",
       "    </tr>\n",
       "    <tr>\n",
       "      <th>v3.7.4.0</th>\n",
       "      <td>4204.0</td>\n",
       "      <td>4221.0</td>\n",
       "      <td>0.059943</td>\n",
       "      <td>0.063018</td>\n",
       "    </tr>\n",
       "    <tr>\n",
       "      <th>v3.8.0.0</th>\n",
       "      <td>5694.0</td>\n",
       "      <td>6110.0</td>\n",
       "      <td>0.057604</td>\n",
       "      <td>0.062848</td>\n",
       "    </tr>\n",
       "  </tbody>\n",
       "</table>\n",
       "</div>"
      ],
      "text/plain": [
       "                    number           purchase          \n",
       "experimentVariant        0        1         0         1\n",
       "version                                                \n",
       "v2.8.0             41283.0  41552.0  0.000993  0.045606\n",
       "v2.9.0             11921.0  12033.0  0.074658  0.071304\n",
       "v3.7.4.0            4204.0   4221.0  0.059943  0.063018\n",
       "v3.8.0.0            5694.0   6110.0  0.057604  0.062848"
      ]
     },
     "execution_count": 10,
     "metadata": {},
     "output_type": "execute_result"
    }
   ],
   "source": [
    "''' Создаю сводную таблицу где: \n",
    "    индекс - версия приложения\n",
    "    колонка - номер группы\n",
    "    значение - количество пользователей и коэфицент покупок в данной версии приложения\n",
    "'''\n",
    "\n",
    "sample \\\n",
    "    .groupby(['experimentVariant', 'version'], as_index=False) \\\n",
    "    .agg({'uid': 'count', 'purchase': 'mean'}) \\\n",
    "    .rename(columns={'uid': 'number'}) \\\n",
    "    .pivot(index='version', columns='experimentVariant', values=['number', 'purchase'])"
   ]
  },
  {
   "cell_type": "markdown",
   "metadata": {},
   "source": [
    "По внешней оценке сводоной таблицы можно увидеть значимую разницу коэфицента покупок в версии приложения 2.8.0  \n",
    "В версии МП 3.8.0.0 есть небольшое различие (7%) в количестве респонедетов в группах  \n",
    "Проверим каждую версию на отстутсвие статистически значимой разницы между группами  "
   ]
  },
  {
   "cell_type": "code",
   "execution_count": 11,
   "metadata": {},
   "outputs": [
    {
     "data": {
      "application/vnd.jupyter.widget-view+json": {
       "model_id": "0756c7aacf164593afbd3f93468bc959",
       "version_major": 2,
       "version_minor": 0
      },
      "text/plain": [
       "HBox(children=(FloatProgress(value=0.0, max=1000.0), HTML(value='')))"
      ]
     },
     "metadata": {},
     "output_type": "display_data"
    },
    {
     "name": "stdout",
     "output_type": "stream",
     "text": [
      "\n"
     ]
    },
    {
     "data": {
      "image/png": "[encoded data removed]",
      "text/plain": [
       "<Figure size 432x288 with 1 Axes>"
      ]
     },
     "metadata": {},
     "output_type": "display_data"
    },
    {
     "data": {
      "text/plain": [
       "1.0"
      ]
     },
     "execution_count": 11,
     "metadata": {},
     "output_type": "execute_result"
    }
   ],
   "source": [
    "# Провожу А/А тест МП v2.8.0\n",
    "\n",
    "simulations = 1000\n",
    "n_s = 1000\n",
    "res = []\n",
    "\n",
    "# Запуск симуляций A/A теста\n",
    "for i in tqdm(range(simulations)):\n",
    "    s1 = exp.query('version == \"v2.8.0\"')['purchase'].sample(n_s, replace = False).values\n",
    "    s2 = test.query('version == \"v2.8.0\"')['purchase'].sample(n_s, replace = False).values\n",
    "    res.append(stats.ttest_ind(s1, s2, equal_var = False)[1]) # сохраняем pvalue\n",
    "\n",
    "plt.hist(res, bins = 50)\n",
    "plt.style.use('ggplot')\n",
    "plt.xlabel('pvalues')\n",
    "plt.ylabel('frequency')\n",
    "plt.title(\"Histogram of ttest A/A simulations \")\n",
    "plt.show()\n",
    "\n",
    "# Проверяем, что количество ложноположительных случаев не превышает альфа\n",
    "fpr1 = sum(np.array(res) <0.05) / simulations\n",
    "fpr1"
   ]
  },
  {
   "cell_type": "code",
   "execution_count": 12,
   "metadata": {
    "scrolled": false
   },
   "outputs": [
    {
     "data": {
      "application/vnd.jupyter.widget-view+json": {
       "model_id": "406847e87d394874973a4448b69ea7c9",
       "version_major": 2,
       "version_minor": 0
      },
      "text/plain": [
       "HBox(children=(FloatProgress(value=0.0, max=1000.0), HTML(value='')))"
      ]
     },
     "metadata": {},
     "output_type": "display_data"
    },
    {
     "name": "stdout",
     "output_type": "stream",
     "text": [
      "\n"
     ]
    },
    {
     "data": {
      "image/png": "[encoded data removed]",
      "text/plain": [
       "<Figure size 432x288 with 1 Axes>"
      ]
     },
     "metadata": {},
     "output_type": "display_data"
    },
    {
     "data": {
      "text/plain": [
       "0.046"
      ]
     },
     "execution_count": 12,
     "metadata": {},
     "output_type": "execute_result"
    }
   ],
   "source": [
    "# Провожу А/А тест МП v2.9.0\n",
    "\n",
    "simulations = 1000\n",
    "n_s = 1000\n",
    "res = []\n",
    "\n",
    "# Запуск симуляций A/A теста\n",
    "for i in tqdm(range(simulations)):\n",
    "    s1 = exp.query('version == \"v2.9.0\"')['purchase'].sample(n_s, replace = False).values\n",
    "    s2 = test.query('version == \"v2.9.0\"')['purchase'].sample(n_s, replace = False).values\n",
    "    res.append(stats.ttest_ind(s1, s2, equal_var = False)[1]) # сохраняем pvalue\n",
    "\n",
    "plt.hist(res, bins = 50)\n",
    "plt.style.use('ggplot')\n",
    "plt.xlabel('pvalues')\n",
    "plt.ylabel('frequency')\n",
    "plt.title(\"Histogram of ttest A/A simulations \")\n",
    "plt.show()\n",
    "\n",
    "# Проверяем, что количество ложноположительных случаев не превышает альфа\n",
    "fpr2 = sum(np.array(res) <0.05) / simulations\n",
    "fpr2"
   ]
  },
  {
   "cell_type": "code",
   "execution_count": 13,
   "metadata": {},
   "outputs": [
    {
     "data": {
      "application/vnd.jupyter.widget-view+json": {
       "model_id": "6439240f5db549d38376cd974c5c50d8",
       "version_major": 2,
       "version_minor": 0
      },
      "text/plain": [
       "HBox(children=(FloatProgress(value=0.0, max=1000.0), HTML(value='')))"
      ]
     },
     "metadata": {},
     "output_type": "display_data"
    },
    {
     "name": "stdout",
     "output_type": "stream",
     "text": [
      "\n"
     ]
    },
    {
     "data": {
      "image/png": "[encoded data removed]",
      "text/plain": [
       "<Figure size 432x288 with 1 Axes>"
      ]
     },
     "metadata": {},
     "output_type": "display_data"
    },
    {
     "data": {
      "text/plain": [
       "0.038"
      ]
     },
     "execution_count": 13,
     "metadata": {},
     "output_type": "execute_result"
    }
   ],
   "source": [
    "# Провожу А/А тест МП v3.7.4.0\n",
    "\n",
    "simulations = 1000\n",
    "n_s = 1000\n",
    "res = []\n",
    "\n",
    "# Запуск симуляций A/A теста\n",
    "for i in tqdm(range(simulations)):\n",
    "    s1 = exp.query('version == \"v3.7.4.0\"')['purchase'].sample(n_s, replace = False).values\n",
    "    s2 = test.query('version == \"v3.7.4.0\"')['purchase'].sample(n_s, replace = False).values\n",
    "    res.append(stats.ttest_ind(s1, s2, equal_var = False)[1]) # сохраняем pvalue\n",
    "\n",
    "plt.hist(res, bins = 50)\n",
    "plt.style.use('ggplot')\n",
    "plt.xlabel('pvalues')\n",
    "plt.ylabel('frequency')\n",
    "plt.title(\"Histogram of ttest A/A simulations \")\n",
    "plt.show()\n",
    "\n",
    "# Проверяем, что количество ложноположительных случаев не превышает альфа\n",
    "fpr3 = sum(np.array(res) <0.05) / simulations\n",
    "fpr3"
   ]
  },
  {
   "cell_type": "code",
   "execution_count": 14,
   "metadata": {},
   "outputs": [
    {
     "data": {
      "application/vnd.jupyter.widget-view+json": {
       "model_id": "f45e5b27fb64459cb4d9d7b4334e6c64",
       "version_major": 2,
       "version_minor": 0
      },
      "text/plain": [
       "HBox(children=(FloatProgress(value=0.0, max=1000.0), HTML(value='')))"
      ]
     },
     "metadata": {},
     "output_type": "display_data"
    },
    {
     "name": "stdout",
     "output_type": "stream",
     "text": [
      "\n"
     ]
    },
    {
     "data": {
      "image/png": "[encoded data removed]",
      "text/plain": [
       "<Figure size 432x288 with 1 Axes>"
      ]
     },
     "metadata": {},
     "output_type": "display_data"
    },
    {
     "data": {
      "text/plain": [
       "0.041"
      ]
     },
     "execution_count": 14,
     "metadata": {},
     "output_type": "execute_result"
    }
   ],
   "source": [
    "# Провожу А/А тест МП v3.8.0.0\n",
    "\n",
    "simulations = 1000\n",
    "n_s = 1000\n",
    "res = []\n",
    "\n",
    "# Запуск симуляций A/A теста\n",
    "for i in tqdm(range(simulations)):\n",
    "    s1 = exp.query('version == \"v3.8.0.0\"')['purchase'].sample(n_s, replace = False).values\n",
    "    s2 = test.query('version == \"v3.8.0.0\"')['purchase'].sample(n_s, replace = False).values\n",
    "    res.append(stats.ttest_ind(s1, s2, equal_var = False)[1]) # сохраняем pvalue\n",
    "\n",
    "plt.hist(res, bins = 50)\n",
    "plt.style.use('ggplot')\n",
    "plt.xlabel('pvalues')\n",
    "plt.ylabel('frequency')\n",
    "plt.title(\"Histogram of ttest A/A simulations \")\n",
    "plt.show()\n",
    "\n",
    "# Проверяем, что количество ложноположительных случаев не превышает альфа\n",
    "fpr4 = sum(np.array(res) <0.05) / simulations\n",
    "fpr4"
   ]
  },
  {
   "cell_type": "code",
   "execution_count": 16,
   "metadata": {},
   "outputs": [
    {
     "name": "stdout",
     "output_type": "stream",
     "text": [
      "FPR v2.8.0  : 1.0\n",
      "FPR v2.9.0  : 0.046\n",
      "FPR v3.7.4.0: 0.038\n",
      "FPR v3.8.0.0: 0.041\n"
     ]
    }
   ],
   "source": [
    "# FPR разных версий приложения\n",
    "\n",
    "print(\"FPR v2.8.0  :\", fpr1)\n",
    "print(\"FPR v2.9.0  :\", fpr2)\n",
    "print(\"FPR v3.7.4.0:\", fpr3)\n",
    "print(\"FPR v3.8.0.0:\", fpr4)"
   ]
  },
  {
   "cell_type": "markdown",
   "metadata": {},
   "source": [
    "По версии v2.8.0 сильно нарушено сплитование групп. В группах есть статистически значимые различия в коэфицентах покупок и FPR принимает максимальное значение  \n",
    "FPR остальных версий приложения не превышает 0.05 и они успешно проходят А/А тест  "
   ]
  },
  {
   "cell_type": "code",
   "execution_count": 17,
   "metadata": {},
   "outputs": [
    {
     "data": {
      "application/vnd.jupyter.widget-view+json": {
       "model_id": "014e1dc50a274bb5baf66c949ea68e84",
       "version_major": 2,
       "version_minor": 0
      },
      "text/plain": [
       "HBox(children=(FloatProgress(value=0.0, max=1000.0), HTML(value='')))"
      ]
     },
     "metadata": {},
     "output_type": "display_data"
    },
    {
     "name": "stdout",
     "output_type": "stream",
     "text": [
      "\n"
     ]
    },
    {
     "data": {
      "image/png": "[encoded data removed]",
      "text/plain": [
       "<Figure size 432x288 with 1 Axes>"
      ]
     },
     "metadata": {},
     "output_type": "display_data"
    },
    {
     "data": {
      "text/plain": [
       "0.043"
      ]
     },
     "execution_count": 17,
     "metadata": {},
     "output_type": "execute_result"
    }
   ],
   "source": [
    "# Провожу А/А тест без версий МП, которые не прошли проверку отстуствия статистически значимых различий\n",
    "\n",
    "simulations = 1000\n",
    "n_s = 1000\n",
    "res = []\n",
    "\n",
    "# Запуск симуляций A/A теста\n",
    "for i in tqdm(range(simulations)):\n",
    "    s1 = exp.query('version != \"v2.8.0\"')['purchase'].sample(n_s, replace = False).values\n",
    "    s2 = test.query('version != \"v2.8.0\"')['purchase'].sample(n_s, replace = False).values\n",
    "    res.append(stats.ttest_ind(s1, s2, equal_var = False)[1]) # сохраняем pvalue\n",
    "\n",
    "plt.hist(res, bins = 50)\n",
    "plt.style.use('ggplot')\n",
    "plt.xlabel('pvalues')\n",
    "plt.ylabel('frequency')\n",
    "plt.title(\"Histogram of ttest A/A simulations \")\n",
    "plt.show()\n",
    "\n",
    "# Проверяем, что количество ложноположительных случаев не превышает альфа\n",
    "sum(np.array(res) <0.05) / simulations"
   ]
  },
  {
   "cell_type": "markdown",
   "metadata": {},
   "source": [
    "A/A тест без аномальной версий приложения проходит проверку FPR < 0.05  \n",
    "Теперь нужно найти причины по которым произошло некорректное сплитование"
   ]
  }
 ],
 "metadata": {
  "kernelspec": {
   "display_name": "Python 3 (ipykernel)",
   "language": "python",
   "name": "python3"
  },
  "language_info": {
   "codemirror_mode": {
    "name": "ipython",
    "version": 3
   },
   "file_extension": ".py",
   "mimetype": "text/x-python",
   "name": "python",
   "nbconvert_exporter": "python",
   "pygments_lexer": "ipython3",
   "version": "3.9.7"
  }
 },
 "nbformat": 4,
 "nbformat_minor": 4
}
