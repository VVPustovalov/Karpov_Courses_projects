{
 "cells": [
  {
   "cell_type": "code",
   "execution_count": 1,
   "metadata": {},
   "outputs": [],
   "source": [
    "import pandas as pd\n",
    "import seaborn as sns\n",
    "import pingouin as pg\n",
    "import matplotlib.pyplot as plt\n",
    "import scipy.stats\n",
    "\n",
    "import requests\n",
    "from urllib.parse import urlencode"
   ]
  },
  {
   "cell_type": "code",
   "execution_count": 2,
   "metadata": {},
   "outputs": [],
   "source": [
    "sns.set(\n",
    "    font_scale=1.5,\n",
    "    style=\"whitegrid\",\n",
    "    rc={'figure.figsize':(12,8)}\n",
    "        )"
   ]
  },
  {
   "cell_type": "markdown",
   "metadata": {},
   "source": [
    "Вы работаете в приложении по доставке готовых продуктов. К вам пришел коллега с результатами двух тестов:  \n",
    "В первом тестировали разрешение фотографий блюд в приложении: пользователям показывались либо прямоугольные, либо новые квадратные\n",
    "\n",
    "Во втором: была обновлена кнопка заказа, и часть юзеров видела старый вариант, а часть – новый\n",
    "Коллега пришел к вам с просьбой: он посмотрел на графики и предположил, что среди групп могут встретиться различия. Ваша задача – помочь ему проверить гипотезы, сделать соответствующие выводы на основе статистических тестов и принять решения."
   ]
  },
  {
   "cell_type": "markdown",
   "metadata": {},
   "source": [
    "### Описание данных\n",
    "5_task_1:  \n",
    "id – id клиента в эксперименте  \n",
    "group – в каком разрешении показывались картинки (A – прямоугольные 16:9, B – квадратные, C – прямоугольные 12:4)  \n",
    "events – сколько блюд суммарно было заказано за период  \n",
    "\n",
    "5_task_2:  \n",
    "id – id клиента в эксперименте  \n",
    "segment – сегмент (high/low)  \n",
    "group – вид кнопки (control – старая версия, test – новая версия)  \n",
    "events – сколько блюд суммарно было заказано за период  "
   ]
  },
  {
   "cell_type": "code",
   "execution_count": 3,
   "metadata": {},
   "outputs": [],
   "source": [
    "# Ссылка с данными эксперимента с фотографиями блюд\n",
    "base_url = 'https://cloud-api.yandex.net/v1/disk/public/resources/download?'\n",
    "public_key = 'https://disk.yandex.ru/d/Lj5WClBbCt3fyw'\n",
    "\n",
    "# Получаем загрузочную ссылку\n",
    "final_url = base_url + urlencode(dict(public_key=public_key))\n",
    "response = requests.get(final_url)\n",
    "download_url = response.json()['href']"
   ]
  },
  {
   "cell_type": "code",
   "execution_count": 4,
   "metadata": {},
   "outputs": [],
   "source": [
    "# Загружаем данные первого эксперимента\n",
    "df1 = pd.read_csv(download_url)"
   ]
  },
  {
   "cell_type": "code",
   "execution_count": 5,
   "metadata": {},
   "outputs": [],
   "source": [
    "# Ссылка с данными эксперимента с кнопкой заказа\n",
    "base_url = 'https://cloud-api.yandex.net/v1/disk/public/resources/download?'\n",
    "public_key = 'https://disk.yandex.ru/d/Vnlvg9uOrMVKhw'\n",
    "\n",
    "# Получаем загрузочную ссылку\n",
    "final_url = base_url + urlencode(dict(public_key=public_key))\n",
    "response = requests.get(final_url)\n",
    "download_url = response.json()['href']"
   ]
  },
  {
   "cell_type": "code",
   "execution_count": 6,
   "metadata": {},
   "outputs": [],
   "source": [
    "# Загружаем данные второго эксперимента\n",
    "df2 = pd.read_csv(download_url)"
   ]
  },
  {
   "cell_type": "markdown",
   "metadata": {},
   "source": [
    "### Первый эксперимент"
   ]
  },
  {
   "cell_type": "code",
   "execution_count": 7,
   "metadata": {},
   "outputs": [
    {
     "data": {
      "text/html": [
       "<div>\n",
       "<style scoped>\n",
       "    .dataframe tbody tr th:only-of-type {\n",
       "        vertical-align: middle;\n",
       "    }\n",
       "\n",
       "    .dataframe tbody tr th {\n",
       "        vertical-align: top;\n",
       "    }\n",
       "\n",
       "    .dataframe thead th {\n",
       "        text-align: right;\n",
       "    }\n",
       "</style>\n",
       "<table border=\"1\" class=\"dataframe\">\n",
       "  <thead>\n",
       "    <tr style=\"text-align: right;\">\n",
       "      <th></th>\n",
       "      <th>id</th>\n",
       "      <th>group</th>\n",
       "      <th>events</th>\n",
       "    </tr>\n",
       "  </thead>\n",
       "  <tbody>\n",
       "    <tr>\n",
       "      <th>0</th>\n",
       "      <td>16046</td>\n",
       "      <td>A</td>\n",
       "      <td>14</td>\n",
       "    </tr>\n",
       "    <tr>\n",
       "      <th>1</th>\n",
       "      <td>18712</td>\n",
       "      <td>A</td>\n",
       "      <td>41</td>\n",
       "    </tr>\n",
       "    <tr>\n",
       "      <th>2</th>\n",
       "      <td>3268</td>\n",
       "      <td>A</td>\n",
       "      <td>30</td>\n",
       "    </tr>\n",
       "    <tr>\n",
       "      <th>3</th>\n",
       "      <td>22633</td>\n",
       "      <td>A</td>\n",
       "      <td>37</td>\n",
       "    </tr>\n",
       "    <tr>\n",
       "      <th>4</th>\n",
       "      <td>28071</td>\n",
       "      <td>A</td>\n",
       "      <td>38</td>\n",
       "    </tr>\n",
       "  </tbody>\n",
       "</table>\n",
       "</div>"
      ],
      "text/plain": [
       "      id group  events\n",
       "0  16046     A      14\n",
       "1  18712     A      41\n",
       "2   3268     A      30\n",
       "3  22633     A      37\n",
       "4  28071     A      38"
      ]
     },
     "execution_count": 7,
     "metadata": {},
     "output_type": "execute_result"
    }
   ],
   "source": [
    "df1.head()"
   ]
  },
  {
   "cell_type": "code",
   "execution_count": 8,
   "metadata": {},
   "outputs": [
    {
     "data": {
      "image/png": "[encoded data removed]",
      "text/plain": [
       "<Figure size 864x576 with 1 Axes>"
      ]
     },
     "metadata": {},
     "output_type": "display_data"
    }
   ],
   "source": [
    "# Посмотрим как распределены данные трех групп эксперимента с фотографиями блюд\n",
    "sns.boxplot(data=df1, x='group', y='events')\n",
    "plt.ylabel('dishes_count')\n",
    "plt.show()"
   ]
  },
  {
   "cell_type": "markdown",
   "metadata": {},
   "source": [
    "На первый взгляд группы с прямоугольными фотографиями практические не отличаются(А и С), у группы с квадратными фотографиями количество заказанных блюд побольше"
   ]
  },
  {
   "cell_type": "markdown",
   "metadata": {},
   "source": [
    "Для статистического сравнения трех групп мы воспользуемся однофакторным дисперсионным анализом ANOVA. Для начала проверим гомогенность дисперсий внутри групп с помощью теста Левена"
   ]
  },
  {
   "cell_type": "code",
   "execution_count": 9,
   "metadata": {},
   "outputs": [
    {
     "data": {
      "text/html": [
       "<div>\n",
       "<style scoped>\n",
       "    .dataframe tbody tr th:only-of-type {\n",
       "        vertical-align: middle;\n",
       "    }\n",
       "\n",
       "    .dataframe tbody tr th {\n",
       "        vertical-align: top;\n",
       "    }\n",
       "\n",
       "    .dataframe thead th {\n",
       "        text-align: right;\n",
       "    }\n",
       "</style>\n",
       "<table border=\"1\" class=\"dataframe\">\n",
       "  <thead>\n",
       "    <tr style=\"text-align: right;\">\n",
       "      <th></th>\n",
       "      <th>W</th>\n",
       "      <th>pval</th>\n",
       "      <th>equal_var</th>\n",
       "    </tr>\n",
       "  </thead>\n",
       "  <tbody>\n",
       "    <tr>\n",
       "      <th>levene</th>\n",
       "      <td>2.26226</td>\n",
       "      <td>0.104133</td>\n",
       "      <td>True</td>\n",
       "    </tr>\n",
       "  </tbody>\n",
       "</table>\n",
       "</div>"
      ],
      "text/plain": [
       "              W      pval  equal_var\n",
       "levene  2.26226  0.104133       True"
      ]
     },
     "execution_count": 9,
     "metadata": {},
     "output_type": "execute_result"
    }
   ],
   "source": [
    "pg.homoscedasticity(data=df1, dv='events', group='group')"
   ]
  },
  {
   "cell_type": "markdown",
   "metadata": {},
   "source": [
    "Проверку на однородность дисперсий наши группы прошли. Также убедимся, что данные распределены нормально, применив тест Шапиро-Уилка. Возьмем по 1000 испытуемых с каждой группы, так как тест плохо работает на больших данных"
   ]
  },
  {
   "cell_type": "code",
   "execution_count": 10,
   "metadata": {},
   "outputs": [
    {
     "data": {
      "text/plain": [
       "ShapiroResult(statistic=0.998104453086853, pvalue=0.3291724920272827)"
      ]
     },
     "execution_count": 10,
     "metadata": {},
     "output_type": "execute_result"
    }
   ],
   "source": [
    "scipy.stats.shapiro(df1[df1[\"group\"] == 'A']['events'].sample(1000))"
   ]
  },
  {
   "cell_type": "code",
   "execution_count": 11,
   "metadata": {},
   "outputs": [
    {
     "data": {
      "text/plain": [
       "ShapiroResult(statistic=0.9980069398880005, pvalue=0.28554537892341614)"
      ]
     },
     "execution_count": 11,
     "metadata": {},
     "output_type": "execute_result"
    }
   ],
   "source": [
    "scipy.stats.shapiro(df1[df1[\"group\"] == 'B']['events'].sample(1000))"
   ]
  },
  {
   "cell_type": "code",
   "execution_count": 12,
   "metadata": {},
   "outputs": [
    {
     "data": {
      "text/plain": [
       "ShapiroResult(statistic=0.9983478784561157, pvalue=0.4594624936580658)"
      ]
     },
     "execution_count": 12,
     "metadata": {},
     "output_type": "execute_result"
    }
   ],
   "source": [
    "scipy.stats.shapiro(df1[df1[\"group\"] == 'C']['events'].sample(1000))"
   ]
  },
  {
   "cell_type": "markdown",
   "metadata": {},
   "source": [
    "У всех наших групп нормальное распределение. Теперь мы убедились, что сможем применить дисперсионный анализ\n",
    "Нулевая гипотеза(Н0) - средние значения всех трех групп равны\n",
    "Альтернативная гипотеза(Н1) - есть как минимум 2 группы средние значения которых отличаются друг от друга"
   ]
  },
  {
   "cell_type": "code",
   "execution_count": 13,
   "metadata": {},
   "outputs": [
    {
     "data": {
      "text/html": [
       "<div>\n",
       "<style scoped>\n",
       "    .dataframe tbody tr th:only-of-type {\n",
       "        vertical-align: middle;\n",
       "    }\n",
       "\n",
       "    .dataframe tbody tr th {\n",
       "        vertical-align: top;\n",
       "    }\n",
       "\n",
       "    .dataframe thead th {\n",
       "        text-align: right;\n",
       "    }\n",
       "</style>\n",
       "<table border=\"1\" class=\"dataframe\">\n",
       "  <thead>\n",
       "    <tr style=\"text-align: right;\">\n",
       "      <th></th>\n",
       "      <th>Source</th>\n",
       "      <th>ddof1</th>\n",
       "      <th>ddof2</th>\n",
       "      <th>F</th>\n",
       "      <th>p-unc</th>\n",
       "      <th>np2</th>\n",
       "    </tr>\n",
       "  </thead>\n",
       "  <tbody>\n",
       "    <tr>\n",
       "      <th>0</th>\n",
       "      <td>group</td>\n",
       "      <td>2</td>\n",
       "      <td>29997</td>\n",
       "      <td>2886.166657</td>\n",
       "      <td>0.0</td>\n",
       "      <td>0.161377</td>\n",
       "    </tr>\n",
       "  </tbody>\n",
       "</table>\n",
       "</div>"
      ],
      "text/plain": [
       "  Source  ddof1  ddof2            F  p-unc       np2\n",
       "0  group      2  29997  2886.166657    0.0  0.161377"
      ]
     },
     "execution_count": 13,
     "metadata": {},
     "output_type": "execute_result"
    }
   ],
   "source": [
    "pg.anova(data=df1, dv='events', between='group')"
   ]
  },
  {
   "cell_type": "markdown",
   "metadata": {},
   "source": [
    "p-value оказался меньше 0.05, что позволяет нам отклонить нелевую гипотезу и принять альтернативную. Но с помощью этого критерия мы убедились, что есть значимые различия между группами, но мы не знаем в каких именно граппах оно есть. Для определения мы можем воспользоваться критерием Тьюки, который попарно сравнит каждую группу"
   ]
  },
  {
   "cell_type": "code",
   "execution_count": 14,
   "metadata": {
    "scrolled": true
   },
   "outputs": [
    {
     "data": {
      "text/html": [
       "<div>\n",
       "<style scoped>\n",
       "    .dataframe tbody tr th:only-of-type {\n",
       "        vertical-align: middle;\n",
       "    }\n",
       "\n",
       "    .dataframe tbody tr th {\n",
       "        vertical-align: top;\n",
       "    }\n",
       "\n",
       "    .dataframe thead th {\n",
       "        text-align: right;\n",
       "    }\n",
       "</style>\n",
       "<table border=\"1\" class=\"dataframe\">\n",
       "  <thead>\n",
       "    <tr style=\"text-align: right;\">\n",
       "      <th></th>\n",
       "      <th>A</th>\n",
       "      <th>B</th>\n",
       "      <th>mean(A)</th>\n",
       "      <th>mean(B)</th>\n",
       "      <th>diff</th>\n",
       "      <th>se</th>\n",
       "      <th>T</th>\n",
       "      <th>p-tukey</th>\n",
       "      <th>hedges</th>\n",
       "    </tr>\n",
       "  </thead>\n",
       "  <tbody>\n",
       "    <tr>\n",
       "      <th>0</th>\n",
       "      <td>A</td>\n",
       "      <td>B</td>\n",
       "      <td>29.5796</td>\n",
       "      <td>37.6136</td>\n",
       "      <td>-8.0340</td>\n",
       "      <td>0.140894</td>\n",
       "      <td>-57.021604</td>\n",
       "      <td>0.0</td>\n",
       "      <td>-0.806377</td>\n",
       "    </tr>\n",
       "    <tr>\n",
       "      <th>1</th>\n",
       "      <td>A</td>\n",
       "      <td>C</td>\n",
       "      <td>29.5796</td>\n",
       "      <td>27.4703</td>\n",
       "      <td>2.1093</td>\n",
       "      <td>0.140894</td>\n",
       "      <td>14.970833</td>\n",
       "      <td>0.0</td>\n",
       "      <td>0.211712</td>\n",
       "    </tr>\n",
       "    <tr>\n",
       "      <th>2</th>\n",
       "      <td>B</td>\n",
       "      <td>C</td>\n",
       "      <td>37.6136</td>\n",
       "      <td>27.4703</td>\n",
       "      <td>10.1433</td>\n",
       "      <td>0.140894</td>\n",
       "      <td>71.992436</td>\n",
       "      <td>0.0</td>\n",
       "      <td>1.018089</td>\n",
       "    </tr>\n",
       "  </tbody>\n",
       "</table>\n",
       "</div>"
      ],
      "text/plain": [
       "   A  B  mean(A)  mean(B)     diff        se          T  p-tukey    hedges\n",
       "0  A  B  29.5796  37.6136  -8.0340  0.140894 -57.021604      0.0 -0.806377\n",
       "1  A  C  29.5796  27.4703   2.1093  0.140894  14.970833      0.0  0.211712\n",
       "2  B  C  37.6136  27.4703  10.1433  0.140894  71.992436      0.0  1.018089"
      ]
     },
     "execution_count": 14,
     "metadata": {},
     "output_type": "execute_result"
    }
   ],
   "source": [
    "pg.pairwise_tukey(data=df1, dv='events', between='group')"
   ]
  },
  {
   "cell_type": "markdown",
   "metadata": {},
   "source": [
    "Попарное сравнение групп с помщью теста Тьюки говорит о значимом отличии всех трех групп между собой. Так как у группы В наша метрика значимо выше, чем у остальных групп, рекомендуется ее ввести для всех пользователей"
   ]
  },
  {
   "cell_type": "markdown",
   "metadata": {},
   "source": [
    "------------------------------------------------------------------------------------------------------\n",
    "### Второй эксперимент"
   ]
  },
  {
   "cell_type": "markdown",
   "metadata": {},
   "source": [
    "Во втором эксперименте требуется проверить, как пользователи отреагируют на изменение формата кнопки оформления заказа, с разбивкой по сегменту клиента. В данном случае для проверки нам пригодится многофакторный дисперсионный анализ"
   ]
  },
  {
   "cell_type": "code",
   "execution_count": 15,
   "metadata": {},
   "outputs": [
    {
     "data": {
      "text/html": [
       "<div>\n",
       "<style scoped>\n",
       "    .dataframe tbody tr th:only-of-type {\n",
       "        vertical-align: middle;\n",
       "    }\n",
       "\n",
       "    .dataframe tbody tr th {\n",
       "        vertical-align: top;\n",
       "    }\n",
       "\n",
       "    .dataframe thead th {\n",
       "        text-align: right;\n",
       "    }\n",
       "</style>\n",
       "<table border=\"1\" class=\"dataframe\">\n",
       "  <thead>\n",
       "    <tr style=\"text-align: right;\">\n",
       "      <th></th>\n",
       "      <th>id</th>\n",
       "      <th>group</th>\n",
       "      <th>segment</th>\n",
       "      <th>events</th>\n",
       "    </tr>\n",
       "  </thead>\n",
       "  <tbody>\n",
       "    <tr>\n",
       "      <th>0</th>\n",
       "      <td>83440</td>\n",
       "      <td>test</td>\n",
       "      <td>high</td>\n",
       "      <td>78.0</td>\n",
       "    </tr>\n",
       "    <tr>\n",
       "      <th>1</th>\n",
       "      <td>96723</td>\n",
       "      <td>test</td>\n",
       "      <td>high</td>\n",
       "      <td>71.0</td>\n",
       "    </tr>\n",
       "    <tr>\n",
       "      <th>2</th>\n",
       "      <td>68719</td>\n",
       "      <td>test</td>\n",
       "      <td>high</td>\n",
       "      <td>80.0</td>\n",
       "    </tr>\n",
       "    <tr>\n",
       "      <th>3</th>\n",
       "      <td>50399</td>\n",
       "      <td>test</td>\n",
       "      <td>high</td>\n",
       "      <td>80.0</td>\n",
       "    </tr>\n",
       "    <tr>\n",
       "      <th>4</th>\n",
       "      <td>95613</td>\n",
       "      <td>test</td>\n",
       "      <td>high</td>\n",
       "      <td>78.0</td>\n",
       "    </tr>\n",
       "  </tbody>\n",
       "</table>\n",
       "</div>"
      ],
      "text/plain": [
       "      id group segment  events\n",
       "0  83440  test    high    78.0\n",
       "1  96723  test    high    71.0\n",
       "2  68719  test    high    80.0\n",
       "3  50399  test    high    80.0\n",
       "4  95613  test    high    78.0"
      ]
     },
     "execution_count": 15,
     "metadata": {},
     "output_type": "execute_result"
    }
   ],
   "source": [
    "df2.head()"
   ]
  },
  {
   "cell_type": "code",
   "execution_count": 16,
   "metadata": {},
   "outputs": [],
   "source": [
    "# Выделим контрольную группу в отдельную таблицу\n",
    "control = df2[df2['group'] == 'control']"
   ]
  },
  {
   "cell_type": "code",
   "execution_count": 17,
   "metadata": {},
   "outputs": [],
   "source": [
    "# Выделим тестовую группу в отдельную таблицу\n",
    "test = df2[df2['group'] == 'test']"
   ]
  },
  {
   "cell_type": "code",
   "execution_count": 18,
   "metadata": {},
   "outputs": [
    {
     "name": "stderr",
     "output_type": "stream",
     "text": [
      "C:\\Users\\Vlad_Admin\\anaconda3\\lib\\site-packages\\seaborn\\distributions.py:2619: FutureWarning: `distplot` is a deprecated function and will be removed in a future version. Please adapt your code to use either `displot` (a figure-level function with similar flexibility) or `histplot` (an axes-level function for histograms).\n",
      "  warnings.warn(msg, FutureWarning)\n"
     ]
    },
    {
     "data": {
      "image/png": "[encoded data removed]",
      "text/plain": [
       "<Figure size 1152x288 with 1 Axes>"
      ]
     },
     "metadata": {},
     "output_type": "display_data"
    }
   ],
   "source": [
    "# Строим график распределения количества заказов у контрольной группы\n",
    "plt.figure(figsize=(16, 4))\n",
    "sns.distplot(control[['events']], kde=False)\n",
    "plt.xlabel('Количество заказов', labelpad=15)\n",
    "plt.ylabel('Количество испытуемых', labelpad=20)\n",
    "plt.show()"
   ]
  },
  {
   "cell_type": "code",
   "execution_count": 19,
   "metadata": {},
   "outputs": [
    {
     "data": {
      "image/png": "[encoded data removed]",
      "text/plain": [
       "<Figure size 1152x288 with 1 Axes>"
      ]
     },
     "metadata": {},
     "output_type": "display_data"
    }
   ],
   "source": [
    "# Строим график распределения количества заказов у тестовой группы\n",
    "plt.figure(figsize=(16, 4))\n",
    "sns.distplot(test[['events']], kde=False)\n",
    "plt.xlabel('Количество заказов', labelpad=15)\n",
    "plt.ylabel('Количество испытуемых', labelpad=20)\n",
    "plt.show()"
   ]
  },
  {
   "cell_type": "markdown",
   "metadata": {},
   "source": [
    "Проведем многофакторный дисперсионный анализ, где сравниваются средние значения групп между экспериментальными группами, между сегментами и их взаимодействию:"
   ]
  },
  {
   "cell_type": "code",
   "execution_count": 20,
   "metadata": {
    "scrolled": true
   },
   "outputs": [
    {
     "data": {
      "text/html": [
       "<div>\n",
       "<style scoped>\n",
       "    .dataframe tbody tr th:only-of-type {\n",
       "        vertical-align: middle;\n",
       "    }\n",
       "\n",
       "    .dataframe tbody tr th {\n",
       "        vertical-align: top;\n",
       "    }\n",
       "\n",
       "    .dataframe thead th {\n",
       "        text-align: right;\n",
       "    }\n",
       "</style>\n",
       "<table border=\"1\" class=\"dataframe\">\n",
       "  <thead>\n",
       "    <tr style=\"text-align: right;\">\n",
       "      <th></th>\n",
       "      <th>Source</th>\n",
       "      <th>SS</th>\n",
       "      <th>DF</th>\n",
       "      <th>MS</th>\n",
       "      <th>F</th>\n",
       "      <th>p-unc</th>\n",
       "      <th>np2</th>\n",
       "    </tr>\n",
       "  </thead>\n",
       "  <tbody>\n",
       "    <tr>\n",
       "      <th>0</th>\n",
       "      <td>group</td>\n",
       "      <td>3.837195e+06</td>\n",
       "      <td>1.0</td>\n",
       "      <td>3.837195e+06</td>\n",
       "      <td>112031.864119</td>\n",
       "      <td>0.000000e+00</td>\n",
       "      <td>0.528383</td>\n",
       "    </tr>\n",
       "    <tr>\n",
       "      <th>1</th>\n",
       "      <td>segment</td>\n",
       "      <td>2.362480e+07</td>\n",
       "      <td>1.0</td>\n",
       "      <td>2.362480e+07</td>\n",
       "      <td>689756.377485</td>\n",
       "      <td>0.000000e+00</td>\n",
       "      <td>0.873383</td>\n",
       "    </tr>\n",
       "    <tr>\n",
       "      <th>2</th>\n",
       "      <td>group * segment</td>\n",
       "      <td>3.664244e+04</td>\n",
       "      <td>1.0</td>\n",
       "      <td>3.664244e+04</td>\n",
       "      <td>1069.823273</td>\n",
       "      <td>2.060261e-233</td>\n",
       "      <td>0.010585</td>\n",
       "    </tr>\n",
       "    <tr>\n",
       "      <th>3</th>\n",
       "      <td>Residual</td>\n",
       "      <td>3.424956e+06</td>\n",
       "      <td>99996.0</td>\n",
       "      <td>3.425093e+01</td>\n",
       "      <td>NaN</td>\n",
       "      <td>NaN</td>\n",
       "      <td>NaN</td>\n",
       "    </tr>\n",
       "  </tbody>\n",
       "</table>\n",
       "</div>"
      ],
      "text/plain": [
       "            Source            SS       DF            MS              F  \\\n",
       "0            group  3.837195e+06      1.0  3.837195e+06  112031.864119   \n",
       "1          segment  2.362480e+07      1.0  2.362480e+07  689756.377485   \n",
       "2  group * segment  3.664244e+04      1.0  3.664244e+04    1069.823273   \n",
       "3         Residual  3.424956e+06  99996.0  3.425093e+01            NaN   \n",
       "\n",
       "           p-unc       np2  \n",
       "0   0.000000e+00  0.528383  \n",
       "1   0.000000e+00  0.873383  \n",
       "2  2.060261e-233  0.010585  \n",
       "3            NaN       NaN  "
      ]
     },
     "execution_count": 20,
     "metadata": {},
     "output_type": "execute_result"
    }
   ],
   "source": [
    "pg.anova(df2, dv='events', between=['group', 'segment'])"
   ]
  },
  {
   "cell_type": "markdown",
   "metadata": {},
   "source": [
    "По результатам многофакторного дисперсионного анализа мы можем сказать, что средние значения между вышеперечисленными группами значимо отличаются. Посмотрим между какими именно группами есть статистически значимые различия с помощью критерия попарного сравнения Тьюки"
   ]
  },
  {
   "cell_type": "code",
   "execution_count": 21,
   "metadata": {},
   "outputs": [],
   "source": [
    "# Создаем отдельный столбец, который определяет к какой группе относится испытуемый\n",
    "df2['combination'] = df2['group'] + ' / ' + df2['segment']"
   ]
  },
  {
   "cell_type": "code",
   "execution_count": 22,
   "metadata": {
    "scrolled": true
   },
   "outputs": [
    {
     "data": {
      "text/html": [
       "<div>\n",
       "<style scoped>\n",
       "    .dataframe tbody tr th:only-of-type {\n",
       "        vertical-align: middle;\n",
       "    }\n",
       "\n",
       "    .dataframe tbody tr th {\n",
       "        vertical-align: top;\n",
       "    }\n",
       "\n",
       "    .dataframe thead th {\n",
       "        text-align: right;\n",
       "    }\n",
       "</style>\n",
       "<table border=\"1\" class=\"dataframe\">\n",
       "  <thead>\n",
       "    <tr style=\"text-align: right;\">\n",
       "      <th></th>\n",
       "      <th>A</th>\n",
       "      <th>B</th>\n",
       "      <th>mean(A)</th>\n",
       "      <th>mean(B)</th>\n",
       "      <th>diff</th>\n",
       "      <th>se</th>\n",
       "      <th>T</th>\n",
       "      <th>p-tukey</th>\n",
       "      <th>hedges</th>\n",
       "    </tr>\n",
       "  </thead>\n",
       "  <tbody>\n",
       "    <tr>\n",
       "      <th>0</th>\n",
       "      <td>control / high</td>\n",
       "      <td>control / low</td>\n",
       "      <td>59.970800</td>\n",
       "      <td>20.031575</td>\n",
       "      <td>39.939225</td>\n",
       "      <td>0.065432</td>\n",
       "      <td>610.391461</td>\n",
       "      <td>0.0</td>\n",
       "      <td>6.824282</td>\n",
       "    </tr>\n",
       "    <tr>\n",
       "      <th>1</th>\n",
       "      <td>control / high</td>\n",
       "      <td>test / high</td>\n",
       "      <td>59.970800</td>\n",
       "      <td>69.938500</td>\n",
       "      <td>-9.967700</td>\n",
       "      <td>0.082766</td>\n",
       "      <td>-120.432523</td>\n",
       "      <td>0.0</td>\n",
       "      <td>-1.703109</td>\n",
       "    </tr>\n",
       "    <tr>\n",
       "      <th>2</th>\n",
       "      <td>control / high</td>\n",
       "      <td>test / low</td>\n",
       "      <td>59.970800</td>\n",
       "      <td>33.025925</td>\n",
       "      <td>26.944875</td>\n",
       "      <td>0.065432</td>\n",
       "      <td>411.798717</td>\n",
       "      <td>0.0</td>\n",
       "      <td>4.603981</td>\n",
       "    </tr>\n",
       "    <tr>\n",
       "      <th>3</th>\n",
       "      <td>control / low</td>\n",
       "      <td>test / high</td>\n",
       "      <td>20.031575</td>\n",
       "      <td>69.938500</td>\n",
       "      <td>-49.906925</td>\n",
       "      <td>0.065432</td>\n",
       "      <td>-762.727892</td>\n",
       "      <td>0.0</td>\n",
       "      <td>-8.527429</td>\n",
       "    </tr>\n",
       "    <tr>\n",
       "      <th>4</th>\n",
       "      <td>control / low</td>\n",
       "      <td>test / low</td>\n",
       "      <td>20.031575</td>\n",
       "      <td>33.025925</td>\n",
       "      <td>-12.994350</td>\n",
       "      <td>0.041383</td>\n",
       "      <td>-314.002699</td>\n",
       "      <td>0.0</td>\n",
       "      <td>-2.220314</td>\n",
       "    </tr>\n",
       "    <tr>\n",
       "      <th>5</th>\n",
       "      <td>test / high</td>\n",
       "      <td>test / low</td>\n",
       "      <td>69.938500</td>\n",
       "      <td>33.025925</td>\n",
       "      <td>36.912575</td>\n",
       "      <td>0.065432</td>\n",
       "      <td>564.135148</td>\n",
       "      <td>0.0</td>\n",
       "      <td>6.307128</td>\n",
       "    </tr>\n",
       "  </tbody>\n",
       "</table>\n",
       "</div>"
      ],
      "text/plain": [
       "                A              B    mean(A)    mean(B)       diff        se  \\\n",
       "0  control / high  control / low  59.970800  20.031575  39.939225  0.065432   \n",
       "1  control / high    test / high  59.970800  69.938500  -9.967700  0.082766   \n",
       "2  control / high     test / low  59.970800  33.025925  26.944875  0.065432   \n",
       "3   control / low    test / high  20.031575  69.938500 -49.906925  0.065432   \n",
       "4   control / low     test / low  20.031575  33.025925 -12.994350  0.041383   \n",
       "5     test / high     test / low  69.938500  33.025925  36.912575  0.065432   \n",
       "\n",
       "            T  p-tukey    hedges  \n",
       "0  610.391461      0.0  6.824282  \n",
       "1 -120.432523      0.0 -1.703109  \n",
       "2  411.798717      0.0  4.603981  \n",
       "3 -762.727892      0.0 -8.527429  \n",
       "4 -314.002699      0.0 -2.220314  \n",
       "5  564.135148      0.0  6.307128  "
      ]
     },
     "execution_count": 22,
     "metadata": {},
     "output_type": "execute_result"
    }
   ],
   "source": [
    "pg.pairwise_tukey(data=df2, dv='events', between=['combination'])"
   ]
  },
  {
   "cell_type": "markdown",
   "metadata": {},
   "source": [
    "Тест Тьюки показывает знамимые различия между всеми группами попарно!"
   ]
  },
  {
   "cell_type": "code",
   "execution_count": 24,
   "metadata": {},
   "outputs": [
    {
     "data": {
      "image/png": "[encoded data removed]",
      "text/plain": [
       "<Figure size 864x576 with 1 Axes>"
      ]
     },
     "metadata": {},
     "output_type": "display_data"
    }
   ],
   "source": [
    "# Построим график для изучения изменения количества заказов между группами\n",
    "sns.pointplot(data=df2, x='group', y='events', hue='segment', capsize = .2, order=['control', 'test'])\n",
    "plt.title('Количество заказов в зависимости от типа кнопки покупки')\n",
    "plt.xlabel('Группы')\n",
    "plt.ylabel('Число заказов')\n",
    "plt.show()"
   ]
  },
  {
   "cell_type": "markdown",
   "metadata": {},
   "source": [
    "Судя по полученным данным и этому графику, мы можем сказать об увеличении количества заказов у тестовой группы с новой кнопкой, увеличение коснулась как низкий, так и высокий сегмент. Рекомендуется ввести изменения всем пользователям"
   ]
  },
  {
   "cell_type": "code",
   "execution_count": null,
   "metadata": {},
   "outputs": [],
   "source": []
  }
 ],
 "metadata": {
  "kernelspec": {
   "display_name": "Python 3 (ipykernel)",
   "language": "python",
   "name": "python3"
  },
  "language_info": {
   "codemirror_mode": {
    "name": "ipython",
    "version": 3
   },
   "file_extension": ".py",
   "mimetype": "text/x-python",
   "name": "python",
   "nbconvert_exporter": "python",
   "pygments_lexer": "ipython3",
   "version": "3.9.7"
  }
 },
 "nbformat": 4,
 "nbformat_minor": 4
}
